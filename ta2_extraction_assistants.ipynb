{
 "cells": [
  {
   "cell_type": "code",
   "execution_count": 1,
   "id": "33451a15-3743-4891-bf07-bab5ff9572a0",
   "metadata": {},
   "outputs": [],
   "source": [
    "import pandas as pd\n",
    "import openai\n",
    "import requests\n",
    "from openai import OpenAI\n",
    "import json\n",
    "import os\n",
    "import time\n",
    "import warnings\n",
    "import requests\n",
    "import re\n",
    "import csv\n",
    "from datetime import datetime\n",
    "from settings import API_KEY\n",
    "import numpy as np\n",
    "# Ignore the specific UserWarning from openpyxl\n",
    "warnings.filterwarnings(action='ignore', category=UserWarning, module='openpyxl')"
   ]
  },
  {
   "cell_type": "code",
   "execution_count": 2,
   "id": "7499a866-fb3e-4356-a59d-d63d16e458d4",
   "metadata": {},
   "outputs": [],
   "source": [
    "# !pip install --upgrade openai --quiet"
   ]
  },
  {
   "cell_type": "code",
   "execution_count": 3,
   "id": "2c0d9f74-369f-45c0-823e-c5116309eeec",
   "metadata": {},
   "outputs": [],
   "source": [
    "# !pip show openai"
   ]
  },
  {
   "cell_type": "markdown",
   "id": "f1bbbd97-1296-4b08-b421-2b1ae6941984",
   "metadata": {},
   "source": [
    "# References:\n",
    "Links: \n",
    "- https://platform.openai.com/docs/assistants/tools/supported-files\n",
    "- https://github.com/davideuler/awesome-assistant-api/blob/main/GPT-PPT-Slides-Generator.ipynb\n",
    "\n",
    "Goal: This document will utilize assistants to complete the tasks of filling out these materials. "
   ]
  },
  {
   "cell_type": "code",
   "execution_count": 4,
   "id": "bebd7708-ccff-43c8-bf51-055912dec8dd",
   "metadata": {},
   "outputs": [],
   "source": [
    "client = openai.OpenAI(api_key = API_KEY)"
   ]
  },
  {
   "cell_type": "markdown",
   "id": "5b209684-c771-4b9a-8183-4a8032b3ec80",
   "metadata": {
    "jp-MarkdownHeadingCollapsed": true,
    "tags": []
   },
   "source": [
    "## All Functions\n",
    "Create the assistants and the needed functions and prompts."
   ]
  },
  {
   "cell_type": "code",
   "execution_count": 5,
   "id": "46b7f9db-2fd3-4a1a-9a5f-f06bad9cfb93",
   "metadata": {},
   "outputs": [],
   "source": [
    "def delete_assistant(assistant_id):\n",
    "    url = f\"https://api.openai.com/v1/assistants/{assistant_id}\"\n",
    "\n",
    "    # Set up headers with your API key\n",
    "    headers = {\n",
    "    \"Content-Type\": \"application/json\",\n",
    "    \"Authorization\": f\"Bearer {API_KEY}\",\n",
    "    \"OpenAI-Beta\": \"assistants=v1\"\n",
    "    }\n",
    "\n",
    "    # Make the DELETE request\n",
    "    response = requests.delete(url, headers=headers)\n",
    "\n",
    "    # Print the response content\n",
    "    return response.status_code\n"
   ]
  },
  {
   "cell_type": "code",
   "execution_count": 6,
   "id": "b92b5caf-6f45-4c29-ad6d-21dbf214f936",
   "metadata": {},
   "outputs": [],
   "source": [
    "def cancel_assistant_run(thread_id,run_id):\n",
    "    \n",
    "    url = f\"https://api.openai.com/v1/threads/{thread_id}/runs/{run_id}/cancel\"\n",
    "    headers = {\n",
    "        \"Authorization\": f\"Bearer {API_KEY}\",\n",
    "        \"Content-Type\": \"application/json\",\n",
    "        \"OpenAI-Beta\": \"assistants=v1\"\n",
    "    }\n",
    "\n",
    "    response = requests.post(url, headers=headers)\n",
    "    \n",
    "    return response.json()"
   ]
  },
  {
   "cell_type": "code",
   "execution_count": 7,
   "id": "ab756d8e-0ae1-4d50-b0dd-486bf6e5808a",
   "metadata": {},
   "outputs": [],
   "source": [
    "def get_assistant_response(thread_id, run_id):\n",
    "    run = client.beta.threads.runs.retrieve(thread_id=thread_id,run_id=run_id)\n",
    "    print(f\"Checking run status: {run.status}\")\n",
    "    while run.status != \"completed\":\n",
    "        time.sleep(15)\n",
    "        run = client.beta.threads.runs.retrieve(thread_id=thread_id,run_id=run_id)\n",
    "        \n",
    "    print(\"Run is completed. Printing the entire thread now in sequential order \\n\")\n",
    "    messages = client.beta.threads.messages.list(thread_id=thread_id)\n",
    "    \n",
    "#     for thread_message in messages.data[::-1]:\n",
    "#         run_id_value = thread_message.run_id\n",
    "#         content_value = thread_message.content[0].text.value\n",
    "#         print(f\"{run_id_value}: {content_value} \\n\")\n",
    "    \n",
    "    \n",
    "    most_recent = messages.data[0].content[0].text.value\n",
    "    print(f\"Most run {run_id} response: {most_recent} \")\n",
    "    return most_recent"
   ]
  },
  {
   "cell_type": "code",
   "execution_count": 8,
   "id": "dabfbca0-f5ed-4423-865b-bf097d17c501",
   "metadata": {},
   "outputs": [],
   "source": [
    "def create_assistant(file_id):\n",
    "    assistant = client.beta.assistants.create(\n",
    "        name=\"Get Extraction\",\n",
    "        instructions= instructions.replace(\"__COMMODITY__\", os.environ.get('commodity')).replace(\"__SIGN__\", os.environ.get('sign')),\n",
    "        tools=[{\"type\": \"retrieval\"}],\n",
    "        model=\"gpt-4-1106-preview\",\n",
    "        file_ids=[file_id]\n",
    "    )\n",
    "\n",
    "    thread = client.beta.threads.create(\n",
    "    messages=[\n",
    "    {\n",
    "      \"role\": \"user\",\n",
    "      \"content\": \"You are a geology expert and you are very good in understanding mining reports, which is attached.\",\n",
    "      \"file_ids\": [file_id]\n",
    "    }])\n",
    "    print(f\"Created an Assistant\")\n",
    "    return thread.id, assistant.id"
   ]
  },
  {
   "cell_type": "code",
   "execution_count": 9,
   "id": "fa3f5b1c-e69b-46c6-8d4a-5cbbe238c485",
   "metadata": {},
   "outputs": [],
   "source": [
    "def check_file(thread_id, assistant_id):\n",
    "    run = client.beta.threads.runs.create(\n",
    "      thread_id=thread_id,\n",
    "      assistant_id=assistant_id,\n",
    "      instructions= file_instructions\n",
    "    )\n",
    "    print(f\"Current run id = {run.id} thread_id = {thread_id}\")\n",
    "    \n",
    "    ans = get_assistant_response(thread_id, run.id)\n",
    "    print(f\"Response: {ans}\")\n",
    "    if ans.lower() == \"no\":\n",
    "        print(\"We need to reload file.\")\n",
    "        delete_assistant(assistant_id)\n",
    "        file = client.files.create(\n",
    "              file=open(f\"./reports/{os.environ.get('file_path')}\", \"rb\"),\n",
    "              purpose='assistants'\n",
    "            )\n",
    "        thread_id, assistant_id =  create_assistant(file.id)\n",
    "        check_file(assistant_id, thread_id)\n",
    "    else:\n",
    "        print(\"File was correctly uploaded\")\n",
    "        return thread_id, assistant_id,"
   ]
  },
  {
   "cell_type": "code",
   "execution_count": 10,
   "id": "dacae5e4-a7db-4bbf-9e18-7fca341d1124",
   "metadata": {},
   "outputs": [],
   "source": [
    "def extract_json_strings(input_string):\n",
    "    start = input_string.find('{')\n",
    "    if start != -1:\n",
    "        count = 0\n",
    "        for i in range(start, len(input_string)):\n",
    "            if input_string[i] == '{':\n",
    "                count += 1\n",
    "            elif input_string[i] == '}':\n",
    "                count -= 1\n",
    "            if count == 0:\n",
    "                json_str = input_string[start:i+1]\n",
    "                return json.loads(json_str)\n",
    "    else:\n",
    "        return None"
   ]
  },
  {
   "cell_type": "code",
   "execution_count": 11,
   "id": "abbae859-aeb1-4d60-bd01-c5f59e327324",
   "metadata": {},
   "outputs": [],
   "source": [
    "def read_csv_to_dict(file_path):\n",
    "    data_dict_list = []\n",
    "    \n",
    "    with open(file_path, mode='r') as csv_file:\n",
    "        csv_reader = csv.DictReader(csv_file)\n",
    "        \n",
    "        for row in csv_reader:\n",
    "            data_dict_list.append(dict(row))\n",
    "    \n",
    "    return data_dict_list"
   ]
  },
  {
   "cell_type": "code",
   "execution_count": 12,
   "id": "99d9de3b-009c-4235-ad76-ced44496af9e",
   "metadata": {},
   "outputs": [],
   "source": [
    "def clean_mineral_site_json(json_str):\n",
    "    # cycle through dict\n",
    "    for key in json_str:\n",
    "        key_string = str(json_str[key])\n",
    "        if key_string.strip() == \"\" or key_string.strip() == \"POINT()\":\n",
    "            del json_str[key]\n",
    "    return json_str\n",
    "    "
   ]
  },
  {
   "cell_type": "code",
   "execution_count": 13,
   "id": "f5cbe9ef-b932-420e-95c1-b5b191de7dbb",
   "metadata": {},
   "outputs": [],
   "source": [
    "def clean_mineral_inventory_json(json_str, commodities_dict, unit_dict):\n",
    "    url_str =\"https://minmod.isi.edu/resource/\"\n",
    "    for inner_json in json_str[\"MineralInventory\"]:\n",
    "        for key, value in inner_json.items():\n",
    "            if value == \"NA\" or value == \"Not Provided\" or value == \"N/A\":\n",
    "                inner_json[key] = \"\"\n",
    "                \n",
    "            if key in {\"ore\", \"grade\", \"cutoff_grade\"}:\n",
    "                # check units\n",
    "                for new_key, new_value in inner_json[key].items():\n",
    "                    print(new_key, new_value)\n",
    "                    if new_value in unit_dict:\n",
    "                        inner_json[key][new_key] = url_str + unit_dict[new_value]\n",
    "\n",
    "            if \"category\" in key:\n",
    "                inner_json[key] = url_str + value\n",
    "\n",
    "            if \"commodity\" in key:\n",
    "                inner_json[key] = url_str + commodities_dict[value]\n",
    "\n",
    "            if \"cutoff_grade\" in key:\n",
    "                for new_key, new_value in inner_json[key].items():\n",
    "                    if value == \"NA\" or value == \"Not Provided\" or value == \"N/A\":\n",
    "                        del inner_json[key][new_key]\n",
    "            \n",
    "        if len(inner_json['cutoff_grade']) == 0:\n",
    "            del inner_json['cutoff_grade']\n",
    "    return json_str"
   ]
  },
  {
   "cell_type": "markdown",
   "id": "6b5322fc-3fa7-430c-91e1-ff70bae67a4e",
   "metadata": {
    "tags": []
   },
   "source": [
    "## Initial Prompts"
   ]
  },
  {
   "cell_type": "code",
   "execution_count": 14,
   "id": "0d341eee-aac7-406b-96b2-0eccceb74d6f",
   "metadata": {},
   "outputs": [],
   "source": [
    "file_instructions = \"\"\"If the file was correctly uploaded and can be read return YES otherwise return NO. \n",
    "Only return the Yes or No answer.\n",
    "\"\"\""
   ]
  },
  {
   "cell_type": "code",
   "execution_count": 15,
   "id": "73507abd-c51c-4ba4-8234-5f82c413374f",
   "metadata": {},
   "outputs": [],
   "source": [
    "instructions = \"\"\"You are a geology expert and you are very good in understanding mining reports. You will be given \n",
    "a text from a mining report and a table name. You have to find out what are the different combinations of\n",
    "classification (which is either indicated, inferred, measure, proven, probable, or total ), cut-off (represented as a decimal), tonnage (in Tonnes) and \n",
    "grade (given in %) from the given table in the text. Please extract the name of the element and place it in the output below without any additional text\n",
    "Note we only care about the mineral __COMMODITY__ represented by __SIGN__\"\n",
    "\"\"\""
   ]
  },
  {
   "cell_type": "markdown",
   "id": "c8d9d4ef-917e-42cc-a5f3-87274cfbe582",
   "metadata": {
    "tags": []
   },
   "source": [
    "## Set Up\n",
    "Goal: attach a file and ask it a series of questions"
   ]
  },
  {
   "cell_type": "code",
   "execution_count": 16,
   "id": "efc36fab-92d9-4cb9-b210-b2e726687307",
   "metadata": {},
   "outputs": [],
   "source": [
    "au_path = \"au_papers/\"\n",
    "mvt_path = \"mvt_zinc/\"\n",
    "zinc_path = \"zinc/\"\n",
    "file_name = \"BYP Au 6-2011.pdf\""
   ]
  },
  {
   "cell_type": "code",
   "execution_count": 17,
   "id": "74fce5de-8202-4a59-a6be-22c2c58fd683",
   "metadata": {},
   "outputs": [],
   "source": [
    "os.environ['commodity'] = 'zinc'\n",
    "os.environ['sign'] = 'Zn'\n",
    "os.environ['file_path'] = mvt_path + file_name"
   ]
  },
  {
   "cell_type": "code",
   "execution_count": 18,
   "id": "f11d345f-0903-4a2a-8d2f-112a760cfcfa",
   "metadata": {},
   "outputs": [],
   "source": [
    "file = client.files.create(\n",
    "  file=open(f\"./reports/{os.environ.get('file_path')}\", \"rb\"),\n",
    "  purpose='assistants'\n",
    ")"
   ]
  },
  {
   "cell_type": "code",
   "execution_count": 19,
   "id": "ed9f08da-bee0-4a7f-b84a-38173a8fb89e",
   "metadata": {},
   "outputs": [
    {
     "name": "stdout",
     "output_type": "stream",
     "text": [
      "Created an Assistant\n"
     ]
    }
   ],
   "source": [
    "thread_id, assistant_id =create_assistant(file.id)"
   ]
  },
  {
   "cell_type": "code",
   "execution_count": 20,
   "id": "8794cb46-8a38-4205-b777-7d9a18e128bf",
   "metadata": {},
   "outputs": [
    {
     "name": "stdout",
     "output_type": "stream",
     "text": [
      "Current run id = run_xSEQA72fmPU1hzfOVfjxLuhH thread_id = thread_LW1JHqa7jYCLxX9ysHdz68LS\n",
      "Checking run status: in_progress\n",
      "Run is completed. Printing the entire thread now in sequential order \n",
      "\n",
      "Most run run_xSEQA72fmPU1hzfOVfjxLuhH response: YES \n",
      "Response: YES\n",
      "File was correctly uploaded\n"
     ]
    }
   ],
   "source": [
    "thread_id, assistant_id = check_file(thread_id, assistant_id)"
   ]
  },
  {
   "cell_type": "markdown",
   "id": "bab09425-a07d-4c43-a54f-c564d14ec431",
   "metadata": {
    "tags": []
   },
   "source": [
    "## File was Properly uploaded! "
   ]
  },
  {
   "cell_type": "code",
   "execution_count": null,
   "id": "eb4e945f-2afd-4427-95d9-54802e548c06",
   "metadata": {},
   "outputs": [],
   "source": [
    "document_ref = f\"\"\"{{\n",
    "              \"title\": \"\",\n",
    "              \"doi\" : \"\"\n",
    "              \"uri\": \"\",\n",
    "              \"authors\": \"[]\",\n",
    "              \"year\": \"\",\n",
    "              \"month\": \"\",\n",
    "              \"volume\": \"\",\n",
    "              \"issue\": \"\",\n",
    "              \"description\": \"\"\n",
    "            }}\"\"\""
   ]
  },
  {
   "cell_type": "code",
   "execution_count": 21,
   "id": "1696dbf0-f4ae-473f-a491-347eccb5d535",
   "metadata": {},
   "outputs": [],
   "source": [
    "name_instructions = \"\"\"\n",
    "Please tell me the name of the document and the date it was published. Return it as a json structure \n",
    "that follows this format {\"name\": document name, \"date\":yyyy-mm}. Only return the json structure.\n",
    "\"\"\""
   ]
  },
  {
   "cell_type": "code",
   "execution_count": 22,
   "id": "680ae06f-67fe-4329-8a63-b815fc44540e",
   "metadata": {},
   "outputs": [
    {
     "name": "stdout",
     "output_type": "stream",
     "text": [
      "Creating the thread\n",
      "Current run id = run_KhUiaHCEON4VAJONJJDbvJu3 thread_id = thread_LW1JHqa7jYCLxX9ysHdz68LS\n"
     ]
    }
   ],
   "source": [
    "print(\"Creating the thread\")\n",
    "run = client.beta.threads.runs.create(\n",
    "  thread_id=thread_id,\n",
    "  assistant_id=assistant_id,\n",
    "  instructions= name_instructions\n",
    ")\n",
    "print(f\"Current run id = {run.id} thread_id = {thread_id}\")"
   ]
  },
  {
   "cell_type": "code",
   "execution_count": 23,
   "id": "02d5ca28-4c35-40d7-ba26-f20c53dbcd21",
   "metadata": {},
   "outputs": [
    {
     "name": "stdout",
     "output_type": "stream",
     "text": [
      "Retrieving the response\n",
      "\n",
      "Checking run status: queued\n",
      "Run is completed. Printing the entire thread now in sequential order \n",
      "\n",
      "Most run run_KhUiaHCEON4VAJONJJDbvJu3 response: ```json\n",
      "{\n",
      "  \"name\": \"Technical Report on the BYP Property Hunan Province China\",\n",
      "  \"year\": \"2011-06\"\n",
      "}\n",
      "``` \n"
     ]
    }
   ],
   "source": [
    "print(\"Retrieving the response\\n\")\n",
    "ans = get_assistant_response(thread_id, run.id)"
   ]
  },
  {
   "cell_type": "code",
   "execution_count": 24,
   "id": "89bc9f3f-1512-4844-9c03-d5c59aa75a1e",
   "metadata": {},
   "outputs": [],
   "source": [
    "doc_json = extract_json_strings(ans)\n",
    "# doi_value = doc_json['doi']\n",
    "doc_date = doc_json['year']\n",
    "doc_month = int(doc_date[-2:])\n",
    "doc_year = int(doc_date[:4])\n",
    "doc_name = doc_json['name']"
   ]
  },
  {
   "cell_type": "code",
   "execution_count": 25,
   "id": "eacad1da-ba54-42ad-b737-678b0a2ac741",
   "metadata": {},
   "outputs": [
    {
     "name": "stdout",
     "output_type": "stream",
     "text": [
      "Here are the doc name Technical Report on the BYP Property Hunan Province China doc year 2011-06\n"
     ]
    }
   ],
   "source": [
    "print(f\"Here are the doc name {doc_name} doc year {doc_date}\")"
   ]
  },
  {
   "cell_type": "markdown",
   "id": "5ee7cb8b-c109-44c2-8fc7-bf75efe3fbb0",
   "metadata": {
    "tags": []
   },
   "source": [
    "## Filling out Mineral Site"
   ]
  },
  {
   "cell_type": "code",
   "execution_count": 26,
   "id": "95ca6160-d223-49d9-8cba-f6dfc8968dea",
   "metadata": {},
   "outputs": [],
   "source": [
    "## json strings\n",
    "site_format = f\"\"\"\n",
    "  {{ \"MineralSite\":[\n",
    "      \"source_id\": \"\",\n",
    "      \"record_id\": 1,\n",
    "      \"name\": \"{doc_name}\",\n",
    "      \"location_info\": {{\n",
    "        \"location\": \"POINT()\",\n",
    "        \"crs\": \"WGS84\"\n",
    "        \"country\": \"\",\n",
    "        \"state_or_province\": \"\",\n",
    "        }}\n",
    "    ] }}\n",
    "\"\"\""
   ]
  },
  {
   "cell_type": "code",
   "execution_count": 27,
   "id": "94db5cc0-fe92-4845-9ff5-62a832d74fb3",
   "metadata": {},
   "outputs": [],
   "source": [
    "loc_instructions = f\"\"\"Find the geographic location of the mining \n",
    "site in the document and put it in geographic coordinates using latitude and longitude that will then be converted to\n",
    "geometry point structure. Fill out the JSON structure Mineral Site based on the geographic information found.\n",
    "Here is an example format: Mineral Site: {site_format}\n",
    "If there is no location information or if the correct conversions cannot be made replace the value as empty strings. \n",
    "Return only the filled in MineralSite json Structure with only the keys and values and no additional comments.\n",
    "\"\"\""
   ]
  },
  {
   "cell_type": "code",
   "execution_count": 28,
   "id": "5121c581-c90b-4935-b261-62c13f2824a9",
   "metadata": {},
   "outputs": [
    {
     "name": "stdout",
     "output_type": "stream",
     "text": [
      "Creating the thread\n",
      "Current run id = run_tbcXtWTkES5yuLelK9AjNXMD thread_id = thread_LW1JHqa7jYCLxX9ysHdz68LS\n"
     ]
    }
   ],
   "source": [
    "print(\"Creating the thread\")\n",
    "run = client.beta.threads.runs.create(\n",
    "  thread_id=thread_id,\n",
    "  assistant_id=assistant_id,\n",
    "  instructions=loc_instructions\n",
    ")\n",
    "print(f\"Current run id = {run.id} thread_id = {thread_id}\")"
   ]
  },
  {
   "cell_type": "code",
   "execution_count": 29,
   "id": "0c8ae3e0-b4e7-4001-a3ae-4f9fb21fd964",
   "metadata": {},
   "outputs": [
    {
     "name": "stdout",
     "output_type": "stream",
     "text": [
      "Retrieving the response\n",
      "\n",
      "Checking run status: in_progress\n",
      "Run is completed. Printing the entire thread now in sequential order \n",
      "\n",
      "Most run run_tbcXtWTkES5yuLelK9AjNXMD response: ```json\n",
      "{\n",
      "  \"MineralSite\":[\n",
      "    {\n",
      "      \"source_id\": \"Technical Report on the BYP Property Hunan Province China\",\n",
      "      \"record_id\": \"BYP Au 6-2011.pdf\",\n",
      "      \"name\": \"Technical Report on the BYP Property Hunan Province China\",\n",
      "      \"location_info\": {\n",
      "        \"location\": \"POINT(111.306111 27.375833)\",\n",
      "        \"crs\": \"WGS84\",\n",
      "        \"country\": \"China\",\n",
      "        \"state_or_province\": \"Hunan Province\"\n",
      "      }\n",
      "    } \n",
      "  ]\n",
      "}\n",
      "``` \n"
     ]
    }
   ],
   "source": [
    "print(\"Retrieving the response\\n\")\n",
    "ans = get_assistant_response(thread_id, run.id)"
   ]
  },
  {
   "cell_type": "code",
   "execution_count": 30,
   "id": "e3e6bddb-a6dc-4b39-8aac-7968595fa591",
   "metadata": {},
   "outputs": [
    {
     "name": "stdout",
     "output_type": "stream",
     "text": [
      "{'MineralSite': [{'source_id': 'Technical Report on the BYP Property Hunan Province China', 'record_id': 'BYP Au 6-2011.pdf', 'name': 'Technical Report on the BYP Property Hunan Province China', 'location_info': {'location': 'POINT(111.306111 27.375833)', 'crs': 'WGS84', 'country': 'China', 'state_or_province': 'Hunan Province'}}]}\n"
     ]
    }
   ],
   "source": [
    "mineral_site_json = extract_json_strings(ans)\n",
    "if mineral_site_json is None:\n",
    "    mineral_site_json = json.loads(site_format)\n",
    "    \n",
    "mineral_site_json = clean_mineral_site_json(mineral_site_json)\n",
    "print(mineral_site_json)\n"
   ]
  },
  {
   "cell_type": "markdown",
   "id": "5597f611-bb0f-447d-8872-26bebbdc08d8",
   "metadata": {
    "jp-MarkdownHeadingCollapsed": true,
    "tags": []
   },
   "source": [
    "## Filling out Deposit Types"
   ]
  },
  {
   "cell_type": "code",
   "execution_count": 31,
   "id": "95b4948a-5235-4eed-9fc7-056bc2555f7f",
   "metadata": {},
   "outputs": [],
   "source": [
    "minmod_deposit_types = read_csv_to_dict(\"./codes/minmod_deposit_types.csv\")\n",
    "deposit_id = {}\n",
    "for key in minmod_deposit_types:\n",
    "    deposit_id[key['Deposit type']] = key['Minmod ID']"
   ]
  },
  {
   "cell_type": "code",
   "execution_count": 32,
   "id": "afe37a7a-ea73-46aa-ac69-8891156ddb1d",
   "metadata": {},
   "outputs": [],
   "source": [
    "deposit_format = \"\"\"\n",
    "{\n",
    "  \"deposit_type\": [\n",
    "    {\n",
    "      \"id\":  \"deposit type\"\n",
    "    }\n",
    "  ]\n",
    "}\n",
    "\"\"\"\n",
    "deposit_format_correct = \"\"\"\n",
    "{\n",
    "  \"deposit_type\": [\n",
    "    {\n",
    "      \"id\":  \"https://minmod.isi.edu/resource/deposit_id\"\n",
    "    }\n",
    "  ]\n",
    "}\n",
    "\"\"\"\n",
    "deposit_instructions = f\"\"\"Identify the deposit types from the attached document. Note that the main\n",
    "commodity in this paper is {os.environ.get('commodity')}.The output was to be formatted in the JSON structure Deposit_Type\n",
    "{deposit_format}.  Please return the filled in Deposit_Type json Structure or \n",
    "leave the list empty if there are No matching deposit types. Return only the json structure.\n",
    "\"\"\"\n",
    "check_deposit_instructions = f\"\"\"Given this json structure with deposit types __DEPOSIT_TYPES__, check that each deposit is in\n",
    "the acceptable list of deposits or there is a deposit type that appears to be close. Update the \n",
    "deposit type name with the correct ID from this given list {deposit_id}. The return format\n",
    "should only be the JSON structure: {deposit_format_correct} where deposit_id is changed to the correct ID and the https url is still included.\n",
    "If there is no match return an empty list for deposit_type. \n",
    "\"\"\"\n"
   ]
  },
  {
   "cell_type": "code",
   "execution_count": 33,
   "id": "53949f29-9116-4caa-a0c8-12c737d12b95",
   "metadata": {},
   "outputs": [],
   "source": [
    "# print(deposit_instructions)"
   ]
  },
  {
   "cell_type": "code",
   "execution_count": 34,
   "id": "e2b5beec-2b91-4155-9c56-f29527dd3b9e",
   "metadata": {},
   "outputs": [
    {
     "name": "stdout",
     "output_type": "stream",
     "text": [
      "Creating the run\n",
      "Current run id = run_IQJ4BgSj9OWsYkjatFTMqT6K thread_id = thread_LW1JHqa7jYCLxX9ysHdz68LS\n"
     ]
    }
   ],
   "source": [
    "print(\"Creating the run\")\n",
    "run = client.beta.threads.runs.create(\n",
    "  thread_id=thread_id,\n",
    "  assistant_id=assistant_id,\n",
    "  instructions=deposit_instructions\n",
    ")\n",
    "print(f\"Current run id = {run.id} thread_id = {thread_id}\")"
   ]
  },
  {
   "cell_type": "code",
   "execution_count": 35,
   "id": "65929003-8244-4b07-922f-cfc03d977885",
   "metadata": {
    "tags": []
   },
   "outputs": [
    {
     "name": "stdout",
     "output_type": "stream",
     "text": [
      "Retrieving the response\n",
      "\n",
      "Checking run status: in_progress\n",
      "Run is completed. Printing the entire thread now in sequential order \n",
      "\n",
      "Most run run_IQJ4BgSj9OWsYkjatFTMqT6K response: ```json\n",
      "{\n",
      "  \"deposit_type\": [\n",
      "    {\n",
      "      \"id\": \"stratabound mineralization\"\n",
      "    }\n",
      "  ]\n",
      "}\n",
      "``` \n"
     ]
    }
   ],
   "source": [
    "print(\"Retrieving the response\\n\")\n",
    "ans = get_assistant_response(thread_id, run.id)"
   ]
  },
  {
   "cell_type": "code",
   "execution_count": 36,
   "id": "c389e7bd-ba88-492e-bd24-5c05ea69cbef",
   "metadata": {},
   "outputs": [
    {
     "name": "stdout",
     "output_type": "stream",
     "text": [
      "deposit types: {'deposit_type': [{'id': 'stratabound mineralization'}]}\n"
     ]
    }
   ],
   "source": [
    "deposit_types_json = extract_json_strings(ans)\n",
    "print(f\"deposit types: {deposit_types_json}\")"
   ]
  },
  {
   "cell_type": "code",
   "execution_count": 37,
   "id": "e6be2ac6-47ca-4059-81ff-6c2a9e9b2b01",
   "metadata": {},
   "outputs": [
    {
     "name": "stdout",
     "output_type": "stream",
     "text": [
      "Creating the run\n",
      "Current run id = run_QMUAhkFKkga5bccCS5nedfCu thread_id = thread_LW1JHqa7jYCLxX9ysHdz68LS\n",
      "Checking run status: in_progress\n",
      "Run is completed. Printing the entire thread now in sequential order \n",
      "\n",
      "Most run run_QMUAhkFKkga5bccCS5nedfCu response: ```json\n",
      "{\n",
      "  \"deposit_type\": [\n",
      "    {\n",
      "      \"id\": \"https://minmod.isi.edu/resource/Q435\"\n",
      "    }\n",
      "  ]\n",
      "}\n",
      "``` \n",
      "Updated file: \n",
      " {'deposit_type': [{'id': 'https://minmod.isi.edu/resource/Q435'}]}\n"
     ]
    }
   ],
   "source": [
    "if deposit_types_json is not None and len(deposit_types_json['deposit_type']) > 0:\n",
    "    print(\"Creating the run\")\n",
    "    run = client.beta.threads.runs.create(\n",
    "      thread_id=thread_id,\n",
    "      assistant_id=assistant_id,\n",
    "      instructions=check_deposit_instructions.replace(\"__DEPOSIT_TYPE__\", str(deposit_types_json))\n",
    "    )\n",
    "    print(f\"Current run id = {run.id} thread_id = {thread_id}\")\n",
    "    \n",
    "    ans = get_assistant_response(thread_id, run.id)\n",
    "    deposit_types_json = extract_json_strings(ans)\n",
    "    \n",
    "    print(\"Updated file: \\n\",deposit_types_json)\n",
    "else:\n",
    "    deposit_types_json = \"{'deposit_type':[]}\""
   ]
  },
  {
   "cell_type": "code",
   "execution_count": 38,
   "id": "167c3038-dec6-4235-bc3a-444a9bfd3308",
   "metadata": {},
   "outputs": [
    {
     "name": "stdout",
     "output_type": "stream",
     "text": [
      "{'deposit_type': [{'id': 'https://minmod.isi.edu/resource/Q435'}]}\n"
     ]
    }
   ],
   "source": [
    "print(deposit_types_json)"
   ]
  },
  {
   "cell_type": "markdown",
   "id": "e3115791-9e64-415b-8947-38752c12e5d4",
   "metadata": {
    "tags": []
   },
   "source": [
    "## Filling out Mineral Inventory"
   ]
  },
  {
   "cell_type": "code",
   "execution_count": 39,
   "id": "ff2360e8-ee28-4fc9-ac00-69af8beee256",
   "metadata": {},
   "outputs": [],
   "source": [
    "minmod_commodities = read_csv_to_dict(\"./codes/minmod_commodities.csv\")\n",
    "commodities = {}\n",
    "for key in minmod_commodities:\n",
    "    commodities[key['CommodityinGeoKb']] = key['minmod_id']"
   ]
  },
  {
   "cell_type": "code",
   "execution_count": 40,
   "id": "ea78f148-44d8-426f-8412-0d37bcb5465a",
   "metadata": {},
   "outputs": [],
   "source": [
    "minmod_units = read_csv_to_dict(\"./codes/minmod_units.csv\")\n",
    "correct_units = {}\n",
    "for key in minmod_units:\n",
    "    correct_units[key['unit name']] = key['minmod_id']\n",
    "    correct_units[key['unit aliases']] = key['minmod_id']"
   ]
  },
  {
   "cell_type": "code",
   "execution_count": 41,
   "id": "fe3741e8-48f6-4922-a8e1-52fb140fa8a3",
   "metadata": {},
   "outputs": [],
   "source": [
    "inventory_format = f\"\"\"\n",
    "  {{ \"MineralInventory\": [\n",
    "        {{\n",
    "          \"id\": \"0\",\n",
    "          \"commodity\":\"{os.environ.get('commodity')}\",\n",
    "          \"category\": \"classification category\",\n",
    "          \"ore\": {{\n",
    "            \"ore_unit\": \"unit\",\n",
    "            \"ore_value\": \"value\"\n",
    "          }},\n",
    "          \"grade\": {{\n",
    "            \"grade_unit\": \"unit\",\n",
    "            \"grade_value\": \"value\"\n",
    "          }},\n",
    "          \"cutoff_grade\": {{\n",
    "            \"cutoff_grade_unit\": \"unit\",\n",
    "            \"cutoff_grade_value\": \"value\"\n",
    "          }},\n",
    "          \"contained_metal\": \"ore_value * grade_value\",\n",
    "          \"reference\": {{\n",
    "            \"id\": \"1\",\n",
    "            \"document\": {document_dict},\n",
    "            \"page_info\": [\n",
    "              {{\n",
    "                \"page\": \"page number\",\n",
    "                \"bounding_box\": {{\n",
    "                  \"x_min\": \"\",\n",
    "                  \"x_max\": \"\",\n",
    "                  \"y_min\": \"\",\n",
    "                  \"y_max\": \"\"\n",
    "                }}\n",
    "              }}\n",
    "            ]\n",
    "          }},\n",
    "          \"date\": \"{doc_date}\"\n",
    "        }}\n",
    "   ] }}\n",
    "\"\"\""
   ]
  },
  {
   "cell_type": "code",
   "execution_count": 75,
   "id": "7c88bae3-a93c-415d-9853-3360e20136a3",
   "metadata": {},
   "outputs": [],
   "source": [
    "find_relevant_table_instructions = f\"\"\"\n",
    "Can you go through the document, find any tables that discuss mineral resources or mineral reserves \n",
    "from the same year or closets to the year {doc_year}? \n",
    "Return the list of tables as a json structure: {{\"Tables\": [\"Table 1 Name\", \"Table 2 Name\" ]}}. Only \n",
    "return the json structure.\n",
    "\"\"\"\n",
    "\n",
    "find_info_instructions = f\"\"\" From this list of tables: __RELEVANT__, extract create a JSON structure that \n",
    "captures all {os.environ.get('commodity')} resource estimate data from these tables.\n",
    "Each relevant row from the data should have an entry in the JSON should include the following fields:\n",
    "category: The category of resource must be either INFERRED, INDICATED, MEASURED, PROBABLE, PROVEN, ORIGINAL_RESOURCE, EXTRACTED, CUMULATIVE_EXTRACTED. \n",
    "{os.environ.get('sign')} Cut-Off: The threshold grade used to determine the economic viability of mining the {os.environ.get('commodity')}\n",
    "resource (this might not be provided in some tables).{os.environ.get('sign')} Tonnage: The calculated or\n",
    "estimated tonnage for the resource. {os.environ.get('sign')} Grade %: The concentration of \n",
    "{os.environ.get('commodity')} in the resource.  Contained_metal is the tonnage value times grade value \n",
    "and then divided by 100 but should be reported as the final number. \n",
    "The page number should be found by starting from the first page of the document as page 1 and incrementing by 1 until the referenced \n",
    "table is found in the document.\n",
    "Note: The term \"cut-off\" is sometimes not provided within the resource estimates.\n",
    "This is the final format that the json structure should follow {inventory_format}, do not put any additional comments in the\n",
    "format outside of the keys and values. \n",
    "Any unknown values should be left as ''. Unit values should either be tonnes, million tonnes, gram per tonne,\n",
    "or percent.\n",
    "\"\"\""
   ]
  },
  {
   "cell_type": "code",
   "execution_count": 43,
   "id": "970f11be-0363-4973-b023-3dc3d074bc65",
   "metadata": {},
   "outputs": [
    {
     "name": "stdout",
     "output_type": "stream",
     "text": [
      "Creating the thread\n",
      "Current run id = run_pLfUP1We5Vymvk9nrhOcPdnN thread_id = thread_LW1JHqa7jYCLxX9ysHdz68LS\n"
     ]
    }
   ],
   "source": [
    "print(\"Creating the thread\")\n",
    "run = client.beta.threads.runs.create(\n",
    "  thread_id=thread_id,\n",
    "  assistant_id=assistant_id,\n",
    "  instructions=find_relevant_table_instructions\n",
    ")\n",
    "print(f\"Current run id = {run.id} thread_id = {thread_id}\")"
   ]
  },
  {
   "cell_type": "code",
   "execution_count": 44,
   "id": "f3c2bee0-eae1-44f7-9305-d16c3ac54b65",
   "metadata": {
    "scrolled": true,
    "tags": []
   },
   "outputs": [
    {
     "name": "stdout",
     "output_type": "stream",
     "text": [
      "Retrieving the response\n",
      "\n",
      "Checking run status: queued\n",
      "Run is completed. Printing the entire thread now in sequential order \n",
      "\n",
      "Most run run_pLfUP1We5Vymvk9nrhOcPdnN response: ```json\n",
      "{\n",
      "  \"Tables\": [\n",
      "    \"Table 17.1  Statistics for Raw Data\",\n",
      "    \"Table 16.15  Mass Balances of Pb Zn Flotation Tests (Option 3)\",\n",
      "    \"Table 16.16  PbS Conc Composition(%）(Option 3)\",\n",
      "    \"Table 16.17  ZnS Conc Composition(%）(Option 3)\",\n",
      "    \"Table 16.18  Tails Composition(%）(Option 3)\"\n",
      "  ]\n",
      "}\n",
      "``` \n"
     ]
    }
   ],
   "source": [
    "print(\"Retrieving the response\\n\")\n",
    "ans = get_assistant_response(thread_id, run.id)"
   ]
  },
  {
   "cell_type": "code",
   "execution_count": 45,
   "id": "f3ca9268-61f9-471c-b084-4ef456b18c54",
   "metadata": {},
   "outputs": [
    {
     "name": "stdout",
     "output_type": "stream",
     "text": [
      "{'Tables': ['Table 17.1  Statistics for Raw Data', 'Table 16.15  Mass Balances of Pb Zn Flotation Tests (Option 3)', 'Table 16.16  PbS Conc Composition(%）(Option 3)', 'Table 16.17  ZnS Conc Composition(%）(Option 3)', 'Table 16.18  Tails Composition(%）(Option 3)']}\n"
     ]
    }
   ],
   "source": [
    "relevant_tables = extract_json_strings(ans)\n",
    "print(relevant_tables)"
   ]
  },
  {
   "cell_type": "code",
   "execution_count": 46,
   "id": "ee5460cf-b7f9-4bdf-8b9d-6ff8b40c9a8a",
   "metadata": {},
   "outputs": [
    {
     "name": "stdout",
     "output_type": "stream",
     "text": [
      "Creating the thread\n",
      "Current run id = run_ZZlLCiw8ujdCRMdLpAnqViNi thread_id = thread_LW1JHqa7jYCLxX9ysHdz68LS\n"
     ]
    }
   ],
   "source": [
    "print(\"Creating the thread\")\n",
    "run = client.beta.threads.runs.create(\n",
    "  thread_id=thread_id,\n",
    "  assistant_id=assistant_id,\n",
    "  instructions=find_info_instructions.replace(\"__RELEVANT__\", str(relevant_tables))\n",
    ")\n",
    "print(f\"Current run id = {run.id} thread_id = {thread_id}\")"
   ]
  },
  {
   "cell_type": "code",
   "execution_count": 47,
   "id": "b3b6b3ec-91b1-487a-8e3a-faa2c35e9396",
   "metadata": {},
   "outputs": [
    {
     "name": "stdout",
     "output_type": "stream",
     "text": [
      "Retrieving the response\n",
      "\n",
      "Checking run status: queued\n",
      "Run is completed. Printing the entire thread now in sequential order \n",
      "\n",
      "Most run run_ZZlLCiw8ujdCRMdLpAnqViNi response: ```json\n",
      "{\n",
      "  \"MineralInventory\": [\n",
      "    {\n",
      "      \"id\": \"0\",\n",
      "      \"commodity\": \"zinc\",\n",
      "      \"category\": \"inferred\",\n",
      "      \"ore\": {\n",
      "        \"ore_unit\": \"tonnes\",\n",
      "        \"ore_value\": \"9590420\"\n",
      "      },\n",
      "      \"grade\": {\n",
      "        \"grade_unit\": \"percent\",\n",
      "        \"grade_value\": \"1.97\"\n",
      "      },\n",
      "      \"cutoff_grade\": {\n",
      "        \"cutoff_grade_unit\": \"percent\",\n",
      "        \"cutoff_grade_value\": \"\"\n",
      "      },\n",
      "      \"contained_metal\": \"189020.474\",\n",
      "      \"reference\": {\n",
      "        \"id\": \"0\",\n",
      "        \"document\": {\n",
      "          \"id\": \"doc_id_0\",\n",
      "          \"title\": \"Technical Report on the BYP Property Hunan Province China\",\n",
      "          \"uri\": \"\",\n",
      "          \"month\": \"6\",\n",
      "          \"year\": \"2011\"\n",
      "        },\n",
      "        \"page_info\": [\n",
      "          {\n",
      "            \"page\": \"78\",\n",
      "            \"bounding_box\": {\n",
      "              \"x_min\": \"\",\n",
      "              \"x_max\": \"\",\n",
      "              \"y_min\": \"\",\n",
      "              \"y_max\": \"\"\n",
      "            }\n",
      "          }\n",
      "        ]\n",
      "      },\n",
      "      \"date\": \"2011-06\"\n",
      "    },\n",
      "    {\n",
      "      \"id\": \"1\",\n",
      "      \"commodity\": \"zinc\",\n",
      "      \"category\": \"inferred\",\n",
      "      \"ore\": {\n",
      "        \"ore_unit\": \"tonnes\",\n",
      "        \"ore_value\": \"9007320\"\n",
      "      },\n",
      "      \"grade\": {\n",
      "        \"grade_unit\": \"percent\",\n",
      "        \"grade_value\": \"2.05\"\n",
      "      },\n",
      "      \"cutoff_grade\": {\n",
      "        \"cutoff_grade_unit\": \"percent\",\n",
      "        \"cutoff_grade_value\": \"\"\n",
      "      },\n",
      "      \"contained_metal\": \"184650.06\",\n",
      "      \"reference\": {\n",
      "        \"id\": \"1\",\n",
      "        \"document\": {\n",
      "          \"id\": \"doc_id_0\",\n",
      "          \"title\": \"Technical Report on the BYP Property Hunan Province China\",\n",
      "          \"uri\": \"\",\n",
      "          \"month\": \"6\",\n",
      "          \"year\": \"2011\"\n",
      "        },\n",
      "        \"page_info\": [\n",
      "          {\n",
      "            \"page\": \"78\",\n",
      "            \"bounding_box\": {\n",
      "              \"x_min\": \"\",\n",
      "              \"x_max\": \"\",\n",
      "              \"y_min\": \"\",\n",
      "              \"y_max\": \"\"\n",
      "            }\n",
      "          }\n",
      "        ]\n",
      "      },\n",
      "      \"date\": \"2011-06\"\n",
      "    },\n",
      "    {\n",
      "      \"id\": \"2\",\n",
      "      \"commodity\": \"zinc\",\n",
      "      \"category\": \"inferred\",\n",
      "      \"ore\": {\n",
      "        \"ore_unit\": \"tonnes\",\n",
      "        \"ore_value\": \"5330220\"\n",
      "      },\n",
      "      \"grade\": {\n",
      "        \"grade_unit\": \"percent\",\n",
      "        \"grade_value\": \"2.51\"\n",
      "      },\n",
      "      \"cutoff_grade\": {\n",
      "        \"cutoff_grade_unit\": \"percent\",\n",
      "        \"cutoff_grade_value\": \"\"\n",
      "      },\n",
      "      \"contained_metal\": \"133768.522\",\n",
      "      \"reference\": {\n",
      "        \"id\": \"2\",\n",
      "        \"document\": {\n",
      "          \"id\": \"doc_id_0\",\n",
      "          \"title\": \"Technical Report on the BYP Property Hunan Province China\",\n",
      "          \"uri\": \"\",\n",
      "          \"month\": \"6\",\n",
      "          \"year\": \"2011\"\n",
      "        },\n",
      "        \"page_info\": [\n",
      "          {\n",
      "            \"page\": \"78\",\n",
      "            \"bounding_box\": {\n",
      "              \"x_min\": \"\",\n",
      "              \"x_max\": \"\",\n",
      "              \"y_min\": \"\",\n",
      "              \"y_max\": \"\"\n",
      "            }\n",
      "          }\n",
      "        ]\n",
      "      },\n",
      "      \"date\": \"2011-06\"\n",
      "    },\n",
      "    {\n",
      "      \"id\": \"3\",\n",
      "      \"commodity\": \"zinc\",\n",
      "      \"category\": \"inferred\",\n",
      "      \"ore\": {\n",
      "        \"ore_unit\": \"tonnes\",\n",
      "        \"ore_value\": \"2025380\"\n",
      "      },\n",
      "      \"grade\": {\n",
      "        \"grade_unit\": \"percent\",\n",
      "        \"grade_value\": \"3.03\"\n",
      "      },\n",
      "      \"cutoff_grade\": {\n",
      "        \"cutoff_grade_unit\": \"percent\",\n",
      "        \"cutoff_grade_value\": \"\"\n",
      "      },\n",
      "      \"contained_metal\": \"61306.294\",\n",
      "      \"reference\": {\n",
      "        \"id\": \"3\",\n",
      "        \"document\": {\n",
      "          \"id\": \"doc_id_0\",\n",
      "          \"title\": \"Technical Report on the BYP Property Hunan Province China\",\n",
      "          \"uri\": \"\",\n",
      "          \"month\": \"6\",\n",
      "          \"year\": \"2011\"\n",
      "        },\n",
      "        \"page_info\": [\n",
      "          {\n",
      "            \"page\": \"78\",\n",
      "            \"bounding_box\": {\n",
      "              \"x_min\": \"\",\n",
      "              \"x_max\": \"\",\n",
      "              \"y_min\": \"\",\n",
      "              \"y_max\": \"\"\n",
      "            }\n",
      "          }\n",
      "        ]\n",
      "      },\n",
      "      \"date\": \"2011-06\"\n",
      "    }\n",
      "  ]\n",
      "}\n",
      "``` \n"
     ]
    }
   ],
   "source": [
    "print(\"Retrieving the response\\n\")\n",
    "ans = get_assistant_response(thread_id, run.id)"
   ]
  },
  {
   "cell_type": "code",
   "execution_count": 49,
   "id": "09944c3a-1cdf-47fe-9329-6e035bbf6477",
   "metadata": {},
   "outputs": [],
   "source": [
    "mineral_inventory_json = extract_json_strings(ans)"
   ]
  },
  {
   "cell_type": "code",
   "execution_count": 50,
   "id": "fe8b2bf1-b8c4-492c-bc9c-39ad348a9aa2",
   "metadata": {},
   "outputs": [
    {
     "name": "stdout",
     "output_type": "stream",
     "text": [
      "{'MineralInventory': [{'id': '0', 'commodity': 'zinc', 'category': 'inferred', 'ore': {'ore_unit': 'tonnes', 'ore_value': '9590420'}, 'grade': {'grade_unit': 'percent', 'grade_value': '1.97'}, 'cutoff_grade': {'cutoff_grade_unit': 'percent', 'cutoff_grade_value': ''}, 'contained_metal': '189020.474', 'reference': {'id': '0', 'document': {'id': 'doc_id_0', 'title': 'Technical Report on the BYP Property Hunan Province China', 'uri': '', 'month': '6', 'year': '2011'}, 'page_info': [{'page': '78', 'bounding_box': {'x_min': '', 'x_max': '', 'y_min': '', 'y_max': ''}}]}, 'date': '2011-06'}, {'id': '1', 'commodity': 'zinc', 'category': 'inferred', 'ore': {'ore_unit': 'tonnes', 'ore_value': '9007320'}, 'grade': {'grade_unit': 'percent', 'grade_value': '2.05'}, 'cutoff_grade': {'cutoff_grade_unit': 'percent', 'cutoff_grade_value': ''}, 'contained_metal': '184650.06', 'reference': {'id': '1', 'document': {'id': 'doc_id_0', 'title': 'Technical Report on the BYP Property Hunan Province China', 'uri': '', 'month': '6', 'year': '2011'}, 'page_info': [{'page': '78', 'bounding_box': {'x_min': '', 'x_max': '', 'y_min': '', 'y_max': ''}}]}, 'date': '2011-06'}, {'id': '2', 'commodity': 'zinc', 'category': 'inferred', 'ore': {'ore_unit': 'tonnes', 'ore_value': '5330220'}, 'grade': {'grade_unit': 'percent', 'grade_value': '2.51'}, 'cutoff_grade': {'cutoff_grade_unit': 'percent', 'cutoff_grade_value': ''}, 'contained_metal': '133768.522', 'reference': {'id': '2', 'document': {'id': 'doc_id_0', 'title': 'Technical Report on the BYP Property Hunan Province China', 'uri': '', 'month': '6', 'year': '2011'}, 'page_info': [{'page': '78', 'bounding_box': {'x_min': '', 'x_max': '', 'y_min': '', 'y_max': ''}}]}, 'date': '2011-06'}, {'id': '3', 'commodity': 'zinc', 'category': 'inferred', 'ore': {'ore_unit': 'tonnes', 'ore_value': '2025380'}, 'grade': {'grade_unit': 'percent', 'grade_value': '3.03'}, 'cutoff_grade': {'cutoff_grade_unit': 'percent', 'cutoff_grade_value': ''}, 'contained_metal': '61306.294', 'reference': {'id': '3', 'document': {'id': 'doc_id_0', 'title': 'Technical Report on the BYP Property Hunan Province China', 'uri': '', 'month': '6', 'year': '2011'}, 'page_info': [{'page': '78', 'bounding_box': {'x_min': '', 'x_max': '', 'y_min': '', 'y_max': ''}}]}, 'date': '2011-06'}]}\n"
     ]
    }
   ],
   "source": [
    "print(mineral_inventory_json)"
   ]
  },
  {
   "cell_type": "code",
   "execution_count": 51,
   "id": "61634dab-8842-477d-8c76-55044fb25a3b",
   "metadata": {},
   "outputs": [
    {
     "name": "stdout",
     "output_type": "stream",
     "text": [
      "ore_unit tonnes\n",
      "ore_value 9590420\n",
      "grade_unit percent\n",
      "grade_value 1.97\n",
      "cutoff_grade_unit percent\n",
      "cutoff_grade_value \n",
      "ore_unit tonnes\n",
      "ore_value 9007320\n",
      "grade_unit percent\n",
      "grade_value 2.05\n",
      "cutoff_grade_unit percent\n",
      "cutoff_grade_value \n",
      "ore_unit tonnes\n",
      "ore_value 5330220\n",
      "grade_unit percent\n",
      "grade_value 2.51\n",
      "cutoff_grade_unit percent\n",
      "cutoff_grade_value \n",
      "ore_unit tonnes\n",
      "ore_value 2025380\n",
      "grade_unit percent\n",
      "grade_value 3.03\n",
      "cutoff_grade_unit percent\n",
      "cutoff_grade_value \n"
     ]
    }
   ],
   "source": [
    "mineral_inventory_json = clean_mineral_inventory_json(mineral_inventory_json, commodities, correct_units)"
   ]
  },
  {
   "cell_type": "code",
   "execution_count": 52,
   "id": "58551a71-1460-4966-821b-f8756b1cb8fa",
   "metadata": {},
   "outputs": [
    {
     "name": "stdout",
     "output_type": "stream",
     "text": [
      "{'MineralInventory': [{'id': '0', 'commodity': 'https://minmod.isi.edu/resource/Q589', 'category': 'https://minmod.isi.edu/resource/inferred', 'ore': {'ore_unit': 'https://minmod.isi.edu/resource/Q200', 'ore_value': '9590420'}, 'grade': {'grade_unit': 'https://minmod.isi.edu/resource/Q201', 'grade_value': '1.97'}, 'cutoff_grade': {'cutoff_grade_unit': 'https://minmod.isi.edu/resource/Q201', 'cutoff_grade_value': ''}, 'contained_metal': '189020.474', 'reference': {'id': '0', 'document': {'id': 'doc_id_0', 'title': 'Technical Report on the BYP Property Hunan Province China', 'uri': '', 'month': '6', 'year': '2011'}, 'page_info': [{'page': '78', 'bounding_box': {'x_min': '', 'x_max': '', 'y_min': '', 'y_max': ''}}]}, 'date': '2011-06'}, {'id': '1', 'commodity': 'https://minmod.isi.edu/resource/Q589', 'category': 'https://minmod.isi.edu/resource/inferred', 'ore': {'ore_unit': 'https://minmod.isi.edu/resource/Q200', 'ore_value': '9007320'}, 'grade': {'grade_unit': 'https://minmod.isi.edu/resource/Q201', 'grade_value': '2.05'}, 'cutoff_grade': {'cutoff_grade_unit': 'https://minmod.isi.edu/resource/Q201', 'cutoff_grade_value': ''}, 'contained_metal': '184650.06', 'reference': {'id': '1', 'document': {'id': 'doc_id_0', 'title': 'Technical Report on the BYP Property Hunan Province China', 'uri': '', 'month': '6', 'year': '2011'}, 'page_info': [{'page': '78', 'bounding_box': {'x_min': '', 'x_max': '', 'y_min': '', 'y_max': ''}}]}, 'date': '2011-06'}, {'id': '2', 'commodity': 'https://minmod.isi.edu/resource/Q589', 'category': 'https://minmod.isi.edu/resource/inferred', 'ore': {'ore_unit': 'https://minmod.isi.edu/resource/Q200', 'ore_value': '5330220'}, 'grade': {'grade_unit': 'https://minmod.isi.edu/resource/Q201', 'grade_value': '2.51'}, 'cutoff_grade': {'cutoff_grade_unit': 'https://minmod.isi.edu/resource/Q201', 'cutoff_grade_value': ''}, 'contained_metal': '133768.522', 'reference': {'id': '2', 'document': {'id': 'doc_id_0', 'title': 'Technical Report on the BYP Property Hunan Province China', 'uri': '', 'month': '6', 'year': '2011'}, 'page_info': [{'page': '78', 'bounding_box': {'x_min': '', 'x_max': '', 'y_min': '', 'y_max': ''}}]}, 'date': '2011-06'}, {'id': '3', 'commodity': 'https://minmod.isi.edu/resource/Q589', 'category': 'https://minmod.isi.edu/resource/inferred', 'ore': {'ore_unit': 'https://minmod.isi.edu/resource/Q200', 'ore_value': '2025380'}, 'grade': {'grade_unit': 'https://minmod.isi.edu/resource/Q201', 'grade_value': '3.03'}, 'cutoff_grade': {'cutoff_grade_unit': 'https://minmod.isi.edu/resource/Q201', 'cutoff_grade_value': ''}, 'contained_metal': '61306.294', 'reference': {'id': '3', 'document': {'id': 'doc_id_0', 'title': 'Technical Report on the BYP Property Hunan Province China', 'uri': '', 'month': '6', 'year': '2011'}, 'page_info': [{'page': '78', 'bounding_box': {'x_min': '', 'x_max': '', 'y_min': '', 'y_max': ''}}]}, 'date': '2011-06'}]}\n"
     ]
    }
   ],
   "source": [
    "print(mineral_inventory_json)"
   ]
  },
  {
   "cell_type": "markdown",
   "id": "28e7dea2-5072-4862-86ed-9ee0b480ff9f",
   "metadata": {
    "tags": []
   },
   "source": [
    "## Combine json structures into one and write "
   ]
  },
  {
   "cell_type": "code",
   "execution_count": 54,
   "id": "c7e2566c-99fe-4159-9f80-7838d67b4159",
   "metadata": {},
   "outputs": [],
   "source": [
    "additional = mineral_site_json"
   ]
  },
  {
   "cell_type": "code",
   "execution_count": 55,
   "id": "11ccecc3-af38-4374-9343-a8cdc74581ec",
   "metadata": {},
   "outputs": [
    {
     "name": "stdout",
     "output_type": "stream",
     "text": [
      "{'MineralSite': [{'source_id': 'Technical Report on the BYP Property Hunan Province China', 'record_id': 'BYP Au 6-2011.pdf', 'name': 'Technical Report on the BYP Property Hunan Province China', 'location_info': {'location': 'POINT(111.306111 27.375833)', 'crs': 'WGS84', 'country': 'China', 'state_or_province': 'Hunan Province'}}]} {'deposit_type': [{'id': 'https://minmod.isi.edu/resource/Q435'}]} {'MineralInventory': [{'id': '0', 'commodity': 'https://minmod.isi.edu/resource/Q589', 'category': 'https://minmod.isi.edu/resource/inferred', 'ore': {'ore_unit': 'https://minmod.isi.edu/resource/Q200', 'ore_value': '9590420'}, 'grade': {'grade_unit': 'https://minmod.isi.edu/resource/Q201', 'grade_value': '1.97'}, 'cutoff_grade': {'cutoff_grade_unit': 'https://minmod.isi.edu/resource/Q201', 'cutoff_grade_value': ''}, 'contained_metal': '189020.474', 'reference': {'id': '0', 'document': {'id': 'doc_id_0', 'title': 'Technical Report on the BYP Property Hunan Province China', 'uri': '', 'month': '6', 'year': '2011'}, 'page_info': [{'page': '78', 'bounding_box': {'x_min': '', 'x_max': '', 'y_min': '', 'y_max': ''}}]}, 'date': '2011-06'}, {'id': '1', 'commodity': 'https://minmod.isi.edu/resource/Q589', 'category': 'https://minmod.isi.edu/resource/inferred', 'ore': {'ore_unit': 'https://minmod.isi.edu/resource/Q200', 'ore_value': '9007320'}, 'grade': {'grade_unit': 'https://minmod.isi.edu/resource/Q201', 'grade_value': '2.05'}, 'cutoff_grade': {'cutoff_grade_unit': 'https://minmod.isi.edu/resource/Q201', 'cutoff_grade_value': ''}, 'contained_metal': '184650.06', 'reference': {'id': '1', 'document': {'id': 'doc_id_0', 'title': 'Technical Report on the BYP Property Hunan Province China', 'uri': '', 'month': '6', 'year': '2011'}, 'page_info': [{'page': '78', 'bounding_box': {'x_min': '', 'x_max': '', 'y_min': '', 'y_max': ''}}]}, 'date': '2011-06'}, {'id': '2', 'commodity': 'https://minmod.isi.edu/resource/Q589', 'category': 'https://minmod.isi.edu/resource/inferred', 'ore': {'ore_unit': 'https://minmod.isi.edu/resource/Q200', 'ore_value': '5330220'}, 'grade': {'grade_unit': 'https://minmod.isi.edu/resource/Q201', 'grade_value': '2.51'}, 'cutoff_grade': {'cutoff_grade_unit': 'https://minmod.isi.edu/resource/Q201', 'cutoff_grade_value': ''}, 'contained_metal': '133768.522', 'reference': {'id': '2', 'document': {'id': 'doc_id_0', 'title': 'Technical Report on the BYP Property Hunan Province China', 'uri': '', 'month': '6', 'year': '2011'}, 'page_info': [{'page': '78', 'bounding_box': {'x_min': '', 'x_max': '', 'y_min': '', 'y_max': ''}}]}, 'date': '2011-06'}, {'id': '3', 'commodity': 'https://minmod.isi.edu/resource/Q589', 'category': 'https://minmod.isi.edu/resource/inferred', 'ore': {'ore_unit': 'https://minmod.isi.edu/resource/Q200', 'ore_value': '2025380'}, 'grade': {'grade_unit': 'https://minmod.isi.edu/resource/Q201', 'grade_value': '3.03'}, 'cutoff_grade': {'cutoff_grade_unit': 'https://minmod.isi.edu/resource/Q201', 'cutoff_grade_value': ''}, 'contained_metal': '61306.294', 'reference': {'id': '3', 'document': {'id': 'doc_id_0', 'title': 'Technical Report on the BYP Property Hunan Province China', 'uri': '', 'month': '6', 'year': '2011'}, 'page_info': [{'page': '78', 'bounding_box': {'x_min': '', 'x_max': '', 'y_min': '', 'y_max': ''}}]}, 'date': '2011-06'}]}\n"
     ]
    }
   ],
   "source": [
    "# Combine dictionaries into one\n",
    "print(mineral_site_json,deposit_types_json, mineral_inventory_json)"
   ]
  },
  {
   "cell_type": "code",
   "execution_count": 72,
   "id": "1f424afe-47c8-41d9-bf48-d9e798e6cfd7",
   "metadata": {},
   "outputs": [
    {
     "name": "stdout",
     "output_type": "stream",
     "text": [
      "{'MineralSite': [{'source_id': 'Technical Report on the BYP Property Hunan Province China', 'record_id': 'BYP Au 6-2011.pdf', 'name': 'Technical Report on the BYP Property Hunan Province China', 'location_info': {'location': 'POINT(111.306111 27.375833)', 'crs': 'WGS84', 'country': 'China', 'state_or_province': 'Hunan Province'}, 'MineralInventory': [{'id': '0', 'commodity': 'https://minmod.isi.edu/resource/Q589', 'category': 'https://minmod.isi.edu/resource/inferred', 'ore': {'ore_unit': 'https://minmod.isi.edu/resource/Q200', 'ore_value': '9590420'}, 'grade': {'grade_unit': 'https://minmod.isi.edu/resource/Q201', 'grade_value': '1.97'}, 'cutoff_grade': {'cutoff_grade_unit': 'https://minmod.isi.edu/resource/Q201', 'cutoff_grade_value': ''}, 'contained_metal': '189020.474', 'reference': {'id': '0', 'document': {'id': 'doc_id_0', 'title': 'Technical Report on the BYP Property Hunan Province China', 'uri': '', 'month': '6', 'year': '2011'}, 'page_info': [{'page': '78', 'bounding_box': {'x_min': '', 'x_max': '', 'y_min': '', 'y_max': ''}}]}, 'date': '2011-06'}, {'id': '1', 'commodity': 'https://minmod.isi.edu/resource/Q589', 'category': 'https://minmod.isi.edu/resource/inferred', 'ore': {'ore_unit': 'https://minmod.isi.edu/resource/Q200', 'ore_value': '9007320'}, 'grade': {'grade_unit': 'https://minmod.isi.edu/resource/Q201', 'grade_value': '2.05'}, 'cutoff_grade': {'cutoff_grade_unit': 'https://minmod.isi.edu/resource/Q201', 'cutoff_grade_value': ''}, 'contained_metal': '184650.06', 'reference': {'id': '1', 'document': {'id': 'doc_id_0', 'title': 'Technical Report on the BYP Property Hunan Province China', 'uri': '', 'month': '6', 'year': '2011'}, 'page_info': [{'page': '78', 'bounding_box': {'x_min': '', 'x_max': '', 'y_min': '', 'y_max': ''}}]}, 'date': '2011-06'}, {'id': '2', 'commodity': 'https://minmod.isi.edu/resource/Q589', 'category': 'https://minmod.isi.edu/resource/inferred', 'ore': {'ore_unit': 'https://minmod.isi.edu/resource/Q200', 'ore_value': '5330220'}, 'grade': {'grade_unit': 'https://minmod.isi.edu/resource/Q201', 'grade_value': '2.51'}, 'cutoff_grade': {'cutoff_grade_unit': 'https://minmod.isi.edu/resource/Q201', 'cutoff_grade_value': ''}, 'contained_metal': '133768.522', 'reference': {'id': '2', 'document': {'id': 'doc_id_0', 'title': 'Technical Report on the BYP Property Hunan Province China', 'uri': '', 'month': '6', 'year': '2011'}, 'page_info': [{'page': '78', 'bounding_box': {'x_min': '', 'x_max': '', 'y_min': '', 'y_max': ''}}]}, 'date': '2011-06'}, {'id': '3', 'commodity': 'https://minmod.isi.edu/resource/Q589', 'category': 'https://minmod.isi.edu/resource/inferred', 'ore': {'ore_unit': 'https://minmod.isi.edu/resource/Q200', 'ore_value': '2025380'}, 'grade': {'grade_unit': 'https://minmod.isi.edu/resource/Q201', 'grade_value': '3.03'}, 'cutoff_grade': {'cutoff_grade_unit': 'https://minmod.isi.edu/resource/Q201', 'cutoff_grade_value': ''}, 'contained_metal': '61306.294', 'reference': {'id': '3', 'document': {'id': 'doc_id_0', 'title': 'Technical Report on the BYP Property Hunan Province China', 'uri': '', 'month': '6', 'year': '2011'}, 'page_info': [{'page': '78', 'bounding_box': {'x_min': '', 'x_max': '', 'y_min': '', 'y_max': ''}}]}, 'date': '2011-06'}], 'deposit_type': [{'id': 'https://minmod.isi.edu/resource/Q435'}]}]}\n"
     ]
    }
   ],
   "source": [
    "mineral_site_json[\"MineralSite\"][0]['MineralInventory'] = mineral_inventory_json['MineralInventory']\n",
    "mineral_site_json[\"MineralSite\"][0]['deposit_type'] = deposit_types_json['deposit_type']\n",
    "print(mineral_site_json)\n",
    "current_datetime_str = datetime.now().strftime(\"%Y%m%d_%H%M%S\")"
   ]
  },
  {
   "cell_type": "code",
   "execution_count": 74,
   "id": "9cb5ee31-c577-4945-88ba-63505ee8e867",
   "metadata": {},
   "outputs": [
    {
     "name": "stdout",
     "output_type": "stream",
     "text": [
      "Combined data written to ./extracted/BYP Au 6-2011_summary_20240108_130752.json\n"
     ]
    }
   ],
   "source": [
    "# Specify the path to the output JSON file\n",
    "output_file_path = f'./extracted/{file_name[:-4]}_summary_{current_datetime_str}.json'\n",
    "\n",
    "def convert_int_or_float(obj):\n",
    "    if isinstance(obj, dict):\n",
    "        return {key: convert_int_or_float(value) for key, value in obj.items()}\n",
    "    elif isinstance(obj, list):\n",
    "        return [convert_int_or_float(item) for item in obj]\n",
    "    elif isinstance(obj, (int, float)):\n",
    "        return obj\n",
    "    elif isinstance(obj, str) and obj.isdigit():\n",
    "        return int(obj)\n",
    "    elif isinstance(obj, str) and obj.replace('.', '', 1).isdigit():\n",
    "        return float(obj)\n",
    "    return obj\n",
    "\n",
    "# Writing to a file using json.dump with custom serialization function\n",
    "with open(output_file_path, \"w\") as json_file:\n",
    "    json.dump(convert_int_or_float(mineral_site_json), json_file, indent=2)\n",
    "    \n",
    "\n",
    "print(f\"Combined data written to {output_file_path}\")"
   ]
  },
  {
   "cell_type": "markdown",
   "id": "3749c3aa-2125-48a6-abc8-de01893ea9ca",
   "metadata": {},
   "source": [
    "## Deletion\n",
    "At the end should work on removing the existance of the assistant to not have any outstanding files or assistants which could cause more charges."
   ]
  },
  {
   "cell_type": "code",
   "execution_count": null,
   "id": "7b959428-703f-4006-bfe1-429a8fe43907",
   "metadata": {},
   "outputs": [],
   "source": [
    "resp_code = delete_assistant(assistant_id)\n",
    "\n",
    "if resp_code == 200:\n",
    "    print(f\"Deleted assistant {assistant_id}\")\n",
    "else:\n",
    "    print(f\"Deletion FAILED\")\n",
    "    "
   ]
  },
  {
   "cell_type": "markdown",
   "id": "01fd66af-f6b0-4457-bc1e-c129e23b32b3",
   "metadata": {},
   "source": [
    "# Notes\n",
    "1. Should try function calling"
   ]
  },
  {
   "cell_type": "code",
   "execution_count": null,
   "id": "4f745d56-5176-4a10-ab19-6ddc44e7f8fc",
   "metadata": {},
   "outputs": [],
   "source": []
  }
 ],
 "metadata": {
  "kernelspec": {
   "display_name": "Python 3 (ipykernel)",
   "language": "python",
   "name": "python3"
  },
  "language_info": {
   "codemirror_mode": {
    "name": "ipython",
    "version": 3
   },
   "file_extension": ".py",
   "mimetype": "text/x-python",
   "name": "python",
   "nbconvert_exporter": "python",
   "pygments_lexer": "ipython3",
   "version": "3.9.13"
  }
 },
 "nbformat": 4,
 "nbformat_minor": 5
}
