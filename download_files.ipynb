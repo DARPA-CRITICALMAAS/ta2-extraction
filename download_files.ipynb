{
 "cells": [
  {
   "cell_type": "code",
   "execution_count": null,
   "id": "e6eb3a62-3578-4f35-a2a3-738d97c3dbe8",
   "metadata": {},
   "outputs": [],
   "source": [
    "import os\n",
    "import openai\n",
    "import csv\n",
    "import pandas as pd\n",
    "import time\n",
    "from first_pass import HelperFunctions as help\n",
    "from first_pass import GatherCommodities as gather\n",
    "from settings import API_KEY, LIBRARY_ID, LIBRARY_TYPE, ZOLTERO_KEY \n",
    "\n",
    "\n",
    "client = openai.OpenAI(api_key = API_KEY)"
   ]
  },
  {
   "cell_type": "markdown",
   "id": "f661a6be-9f55-48bb-8514-fdcce743ba05",
   "metadata": {},
   "source": [
    "## Need to do Zinc, Copper, Nickel\n",
    "- **Zinc**\n",
    "    - mvt-Zinc lead CMMI 380 MVT zinc-lead (downloaded)\n",
    "- **Nickel**\n",
    "    - Q478\tU-M layered intrusion nickel- copper-PGE\t(downloaded)\n",
    "    - Q481\tU-M intrusion nickel-copper- PGE\t(downloaded)\n",
    "    - Q482\tU-M conduit nickel-copper- PGE (downloaded)\n",
    "- **Copper**\n",
    "    - Q454\tPorphyry copper ± gold\t(downloaded)\n",
    "    - Q455\tPorphyry copper- molybdenum\t(downloaded)\n",
    "    - Q456\tPorphyry gold ± copper (downloaded)\n",
    "- **Lithium**\n",
    "    -  Q354 Lacustrine brine lithium\n",
    "    -  Q355\tLacustrine zeolite (± Li, B)\n",
    "    -  Q356\tLacustrine clay lithium"
   ]
  },
  {
   "cell_type": "code",
   "execution_count": null,
   "id": "562ba43b-cd74-4692-9e56-b236bd83db80",
   "metadata": {},
   "outputs": [],
   "source": [
    "df = pd.read_csv(\"./metadata/deposit_type_record_id.csv\")\n",
    "df.head()"
   ]
  },
  {
   "cell_type": "code",
   "execution_count": null,
   "id": "f0926f1a-8e3f-4101-8a3c-ddb8b85eaac0",
   "metadata": {},
   "outputs": [],
   "source": [
    "df_deposit = df[df['deposit_type'] == \"Lacustrine brine lithium\"].reset_index()\n",
    "df_deposit_sorted = df_deposit.sort_values(by='confidence', ascending = False)\n",
    "\n",
    "df_deposit_sorted.head()"
   ]
  },
  {
   "cell_type": "code",
   "execution_count": null,
   "id": "86920dd4-3b39-4ab5-a51e-a6522bf0f866",
   "metadata": {},
   "outputs": [],
   "source": [
    "m,n = df_deposit_sorted.shape\n",
    "print(m*0.1, m)\n",
    "limit = m * 0.1\n",
    "\n",
    "if limit > 200:\n",
    "    limit = 200\n",
    "elif m < 200:\n",
    "    limit = m\n",
    "else:\n",
    "    limit = m * 0.1\n",
    "print(f\"Limit: {limit}\")"
   ]
  },
  {
   "cell_type": "code",
   "execution_count": null,
   "id": "aa5e8400-3892-41a9-b419-f22464521775",
   "metadata": {
    "scrolled": true
   },
   "outputs": [],
   "source": [
    "folder_name = \"lithium\"\n",
    "download_dir = f\"./reports/{folder_name}/\"\n",
    "count = 1\n",
    "for index, row in df_deposit_sorted.iterrows():\n",
    "    print(count)\n",
    "    if count < limit:\n",
    "        doc_id = row['record_id']\n",
    "        help.download_document(doc_id, download_dir)\n",
    "    elif count > limit:\n",
    "        break\n",
    "    else:\n",
    "        pass\n",
    "        \n",
    "    count += 1"
   ]
  },
  {
   "cell_type": "code",
   "execution_count": null,
   "id": "28ababfb-dcbd-4b43-b603-b6d275eeb483",
   "metadata": {},
   "outputs": [],
   "source": []
  }
 ],
 "metadata": {
  "kernelspec": {
   "display_name": "Python 3 (ipykernel)",
   "language": "python",
   "name": "python3"
  },
  "language_info": {
   "codemirror_mode": {
    "name": "ipython",
    "version": 3
   },
   "file_extension": ".py",
   "mimetype": "text/x-python",
   "name": "python",
   "nbconvert_exporter": "python",
   "pygments_lexer": "ipython3",
   "version": "3.12.4"
  }
 },
 "nbformat": 4,
 "nbformat_minor": 5
}
