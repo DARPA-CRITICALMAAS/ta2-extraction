{
 "cells": [
  {
   "cell_type": "code",
   "execution_count": 3,
   "id": "8d388684-6ffa-47f8-8721-08ddc6d36846",
   "metadata": {},
   "outputs": [],
   "source": [
    "import os\n",
    "import time\n",
    "import logging\n",
    "import configparser\n",
    "\n",
    "import requests\n",
    "from bs4 import BeautifulSoup as bs\n",
    "\n"
   ]
  },
  {
   "cell_type": "code",
   "execution_count": 4,
   "id": "bbc83b04-c76d-4fba-822e-127c85d9668f",
   "metadata": {},
   "outputs": [],
   "source": [
    "def get_epsg(item_to_search:str) -> str:\n",
    "    page = requests.get(f\"https://epsg.io/?q={item_to_search}%20%20kind%3AGEOGCRS\")\n",
    "    soup = bs(page.content, \"html.parser\")\n",
    "\n",
    "    job_elements = soup.find_all(\"h4\")\n",
    "    if len(job_elements) == 1: \n",
    "        return 'EPSG:' + job_elements[0].find(\"a\")['href'].strip().lstrip('/')\n",
    "        \n",
    "    for i in job_elements:\n",
    "        a_object = i.find(\"a\")\n",
    "        if a_object.text.strip() == item_to_search:\n",
    "            return 'EPSG:' + a_object['href'].strip().lstrip('/')"
   ]
  },
  {
   "cell_type": "code",
   "execution_count": 5,
   "id": "b825d9c2-076e-4655-b7c8-7b303ae9f362",
   "metadata": {},
   "outputs": [
    {
     "data": {
      "text/plain": [
       "'EPSG:4326'"
      ]
     },
     "execution_count": 5,
     "metadata": {},
     "output_type": "execute_result"
    }
   ],
   "source": [
    "get_epsg('WGS84')"
   ]
  },
  {
   "cell_type": "code",
   "execution_count": null,
   "id": "649fe9d2-2156-4238-ac43-879090576400",
   "metadata": {},
   "outputs": [],
   "source": []
  }
 ],
 "metadata": {
  "kernelspec": {
   "display_name": "Python 3 (ipykernel)",
   "language": "python",
   "name": "python3"
  },
  "language_info": {
   "codemirror_mode": {
    "name": "ipython",
    "version": 3
   },
   "file_extension": ".py",
   "mimetype": "text/x-python",
   "name": "python",
   "nbconvert_exporter": "python",
   "pygments_lexer": "ipython3",
   "version": "3.9.13"
  }
 },
 "nbformat": 4,
 "nbformat_minor": 5
}
