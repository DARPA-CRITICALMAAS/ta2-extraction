{
 "cells": [
  {
   "cell_type": "code",
   "execution_count": 32,
   "id": "33451a15-3743-4891-bf07-bab5ff9572a0",
   "metadata": {},
   "outputs": [],
   "source": [
    "import pandas as pd\n",
    "import openai\n",
    "import requests\n",
    "from openai import OpenAI\n",
    "import json\n",
    "import os\n",
    "import time\n",
    "import ast\n",
    "import warnings\n",
    "import requests\n",
    "import re\n",
    "import csv\n",
    "import copy\n",
    "from datetime import datetime\n",
    "from fuzzywuzzy import process\n",
    "from settings import API_KEY\n",
    "import numpy as np\n",
    "# Ignore the specific UserWarning from openpyxl\n",
    "warnings.filterwarnings(action='ignore', category=UserWarning, module='openpyxl')"
   ]
  },
  {
   "cell_type": "code",
   "execution_count": 2,
   "id": "7499a866-fb3e-4356-a59d-d63d16e458d4",
   "metadata": {},
   "outputs": [],
   "source": [
    "# !pip install --upgrade openai --quiet"
   ]
  },
  {
   "cell_type": "code",
   "execution_count": 3,
   "id": "2c0d9f74-369f-45c0-823e-c5116309eeec",
   "metadata": {},
   "outputs": [],
   "source": [
    "# !pip show openai"
   ]
  },
  {
   "cell_type": "markdown",
   "id": "f1bbbd97-1296-4b08-b421-2b1ae6941984",
   "metadata": {},
   "source": [
    "# References:\n",
    "Links: \n",
    "- https://platform.openai.com/docs/assistants/tools/supported-files\n",
    "- https://github.com/davideuler/awesome-assistant-api/blob/main/GPT-PPT-Slides-Generator.ipynb\n",
    "\n",
    "Goal: This document will utilize assistants to complete the tasks of filling out these materials. "
   ]
  },
  {
   "cell_type": "code",
   "execution_count": 4,
   "id": "bebd7708-ccff-43c8-bf51-055912dec8dd",
   "metadata": {},
   "outputs": [],
   "source": [
    "client = openai.OpenAI(api_key = API_KEY)"
   ]
  },
  {
   "cell_type": "markdown",
   "id": "5b209684-c771-4b9a-8183-4a8032b3ec80",
   "metadata": {
    "tags": []
   },
   "source": [
    "## All Functions\n",
    "Create the assistants and the needed functions and prompts."
   ]
  },
  {
   "cell_type": "code",
   "execution_count": 5,
   "id": "46b7f9db-2fd3-4a1a-9a5f-f06bad9cfb93",
   "metadata": {},
   "outputs": [],
   "source": [
    "def delete_assistant(assistant_id):\n",
    "    url = f\"https://api.openai.com/v1/assistants/{assistant_id}\"\n",
    "\n",
    "    # Set up headers with your API key\n",
    "    headers = {\n",
    "    \"Content-Type\": \"application/json\",\n",
    "    \"Authorization\": f\"Bearer {API_KEY}\",\n",
    "    \"OpenAI-Beta\": \"assistants=v1\"\n",
    "    }\n",
    "\n",
    "    # Make the DELETE request\n",
    "    response = requests.delete(url, headers=headers)\n",
    "\n",
    "    # Print the response content\n",
    "    return response.status_code\n"
   ]
  },
  {
   "cell_type": "code",
   "execution_count": 6,
   "id": "b92b5caf-6f45-4c29-ad6d-21dbf214f936",
   "metadata": {},
   "outputs": [],
   "source": [
    "def cancel_assistant_run(thread_id,run_id):\n",
    "    \n",
    "    url = f\"https://api.openai.com/v1/threads/{thread_id}/runs/{run_id}/cancel\"\n",
    "    headers = {\n",
    "        \"Authorization\": f\"Bearer {API_KEY}\",\n",
    "        \"Content-Type\": \"application/json\",\n",
    "        \"OpenAI-Beta\": \"assistants=v1\"\n",
    "    }\n",
    "\n",
    "    response = requests.post(url, headers=headers)\n",
    "    \n",
    "    return response.json()"
   ]
  },
  {
   "cell_type": "code",
   "execution_count": 7,
   "id": "ab756d8e-0ae1-4d50-b0dd-486bf6e5808a",
   "metadata": {},
   "outputs": [],
   "source": [
    "def get_assistant_response(thread_id, run_id):\n",
    "    run = client.beta.threads.runs.retrieve(thread_id=thread_id,run_id=run_id)\n",
    "    print(f\"Checking run status: {run.status}\")\n",
    "    while run.status != \"completed\":\n",
    "        time.sleep(15)\n",
    "        run = client.beta.threads.runs.retrieve(thread_id=thread_id,run_id=run_id)\n",
    "        \n",
    "    print(\"Run is completed. Printing the entire thread now in sequential order \\n\")\n",
    "    messages = client.beta.threads.messages.list(thread_id=thread_id)\n",
    "    \n",
    "#     for thread_message in messages.data[::-1]:\n",
    "#         run_id_value = thread_message.run_id\n",
    "#         content_value = thread_message.content[0].text.value\n",
    "#         print(f\"{run_id_value}: {content_value} \\n\")\n",
    "    \n",
    "    \n",
    "    most_recent = messages.data[0].content[0].text.value\n",
    "    print(f\"Most run {run_id} response: {most_recent} \")\n",
    "    return most_recent"
   ]
  },
  {
   "cell_type": "code",
   "execution_count": 8,
   "id": "dabfbca0-f5ed-4423-865b-bf097d17c501",
   "metadata": {},
   "outputs": [],
   "source": [
    "def create_assistant(file_id):\n",
    "    assistant = client.beta.assistants.create(\n",
    "        name=\"Get Extraction\",\n",
    "        instructions= instructions.replace(\"__COMMODITY__\", os.environ.get('commodity')).replace(\"__SIGN__\", os.environ.get('sign')),\n",
    "        tools=[{\"type\": \"retrieval\"}],\n",
    "        model=\"gpt-4-1106-preview\",\n",
    "        file_ids=[file_id]\n",
    "    )\n",
    "\n",
    "    thread = client.beta.threads.create(\n",
    "    messages=[\n",
    "    {\n",
    "      \"role\": \"user\",\n",
    "      \"content\": \"You are a geology expert and you are very good in understanding mining reports, which is attached.\",\n",
    "      \"file_ids\": [file_id]\n",
    "    }])\n",
    "    print(f\"Created an Assistant\")\n",
    "    return thread.id, assistant.id"
   ]
  },
  {
   "cell_type": "code",
   "execution_count": 9,
   "id": "fa3f5b1c-e69b-46c6-8d4a-5cbbe238c485",
   "metadata": {},
   "outputs": [],
   "source": [
    "def check_file(thread_id, assistant_id):\n",
    "    file_instructions = \"\"\"If the file was correctly uploaded and can be read return YES otherwise return NO. \n",
    "                        Only return the Yes or No answer.\n",
    "                        \"\"\"\n",
    "    run = client.beta.threads.runs.create(\n",
    "      thread_id=thread_id,\n",
    "      assistant_id=assistant_id,\n",
    "      instructions= file_instructions\n",
    "    )\n",
    "    print(f\"Current run id = {run.id} thread_id = {thread_id}\")\n",
    "    \n",
    "    ans = get_assistant_response(thread_id, run.id)\n",
    "    print(f\"Response: {ans}\")\n",
    "    if ans.lower() == \"no\":\n",
    "        print(\"We need to reload file.\")\n",
    "        delete_assistant(assistant_id)\n",
    "        file = client.files.create(\n",
    "              file=open(f\"./reports/{os.environ.get('file_path')}\", \"rb\"),\n",
    "              purpose='assistants'\n",
    "            )\n",
    "        thread_id, assistant_id =  create_assistant(file.id)\n",
    "        check_file(assistant_id, thread_id)\n",
    "    else:\n",
    "        print(\"File was correctly uploaded\")\n",
    "        return thread_id, assistant_id,"
   ]
  },
  {
   "cell_type": "code",
   "execution_count": 10,
   "id": "dacae5e4-a7db-4bbf-9e18-7fca341d1124",
   "metadata": {},
   "outputs": [],
   "source": [
    "def extract_json_strings(input_string, remove_comments = False):\n",
    "    start = input_string.find('{')\n",
    "    if start != -1:\n",
    "        # Remove comments starting with // or # since we get a lot in the return\n",
    "        if remove_comments: \n",
    "            input_string = re.sub(r'(?<![\"\\'])//.*?\\n|/\\*.*?\\*/|(#.*?\\n)', '', input_string)\n",
    "        \n",
    "        count = 0\n",
    "        for i in range(start, len(input_string)):\n",
    "            if input_string[i] == '{':\n",
    "                count += 1\n",
    "            elif input_string[i] == '}':\n",
    "                count -= 1\n",
    "            if count == 0:\n",
    "                json_str = input_string[start:i+1]\n",
    "                return json.loads(json_str)\n",
    "    else:\n",
    "        return None"
   ]
  },
  {
   "cell_type": "code",
   "execution_count": 11,
   "id": "abbae859-aeb1-4d60-bd01-c5f59e327324",
   "metadata": {},
   "outputs": [],
   "source": [
    "def read_csv_to_dict(file_path):\n",
    "    data_dict_list = []\n",
    "    \n",
    "    with open(file_path, mode='r') as csv_file:\n",
    "        csv_reader = csv.DictReader(csv_file)\n",
    "        \n",
    "        for row in csv_reader:\n",
    "            data_dict_list.append(dict(row))\n",
    "    \n",
    "    return data_dict_list"
   ]
  },
  {
   "cell_type": "code",
   "execution_count": 34,
   "id": "e1833223-a733-4b5e-8a83-d2b83ae1e960",
   "metadata": {},
   "outputs": [],
   "source": [
    "def is_array(s):\n",
    "    return s.startswith('[') and s.endswith(']')\n",
    "\n",
    "def clean_document_dict(document_dict_temp):\n",
    "    key_to_remove = []\n",
    "\n",
    "    for key, value in document_dict_temp.items():\n",
    "        if isinstance(value, str):\n",
    "            if value.strip() == \"\" and key != \"doi\":\n",
    "                key_to_remove.append(key) \n",
    "        \n",
    "        if key == 'doi':\n",
    "            if value != os.environ.get(\"url\"):\n",
    "                document_dict_temp[key] = os.environ.get(\"url\")\n",
    "        if key == 'authors':\n",
    "            document_dict_temp[key] = [item.strip() for item in value[1:-1].split(',')]  \n",
    "      \n",
    "\n",
    "    for key in key_to_remove:\n",
    "        del document_dict_temp[key]\n",
    "\n",
    "    return document_dict_temp"
   ]
  },
  {
   "cell_type": "code",
   "execution_count": 13,
   "id": "99d9de3b-009c-4235-ad76-ced44496af9e",
   "metadata": {},
   "outputs": [],
   "source": [
    "def clean_mineral_site_json(json_str):\n",
    "    # cycle through dict\n",
    "    key_to_remove = []\n",
    "\n",
    "    for key, value in json_str[\"MineralSite\"][0].items():\n",
    "        # print(f\"Here is the key {key}, value {value}\")\n",
    "        if isinstance(value, str):\n",
    "            if value.strip() == \"\":\n",
    "                key_to_remove.append((key, None))  # Append a tuple (key, None) for outer keys\n",
    "                \n",
    "        if key == 'source_id':\n",
    "            if value != os.environ.get(\"url\"):\n",
    "                json_str[\"MineralSite\"][0][key] = os.environ.get(\"url\")\n",
    "        if key == 'location_info' and isinstance(value, dict):\n",
    "            for new_key, new_value in value.items():\n",
    "                if isinstance(new_value, str) and (new_value.strip() == \"\" or new_value.strip() == \"POINT()\"):\n",
    "                    key_to_remove.append((key, new_key))  # Append a tuple (key, new_key) for inner keys\n",
    "                    key_to_remove.append((key, 'crs'))\n",
    "\n",
    "    for outer_key, inner_key in key_to_remove:\n",
    "        if inner_key is None:\n",
    "            del json_str[\"MineralSite\"][0][outer_key]\n",
    "        else:\n",
    "            del json_str[\"MineralSite\"][0][outer_key][inner_key]\n",
    "\n",
    "    return json_str\n",
    "    "
   ]
  },
  {
   "cell_type": "code",
   "execution_count": 116,
   "id": "f5cbe9ef-b932-420e-95c1-b5b191de7dbb",
   "metadata": {},
   "outputs": [],
   "source": [
    "\n",
    "def find_best_match(input_str, list_to_match, threshold=80):\n",
    "    # Get the best match and its score\n",
    "    best_match, score = process.extractOne(input_str, list_to_match)\n",
    "\n",
    "    # Check if the score is above the threshold\n",
    "    if score >= threshold:\n",
    "        return best_match\n",
    "    else:\n",
    "        return None\n",
    "\n",
    "\n",
    "def create_mineral_inventory(extraction_dict, inventory_format, relevant_tables, unit_dict):\n",
    "    kt_values = [\"k\",\"kt\", \"000s tonnes\", \"thousand tonnes\", \"thousands\", \"000s\" , \"000 tonnes\"]\n",
    "    url_str = \"https://minmod.isi.edu/resource/\"\n",
    "    output_str = {\"MineralInventory\":[]}\n",
    "    \n",
    "    ## add conversion to tonnes\n",
    "    \n",
    "    for inner_dict in extraction_dict['extractions']:\n",
    "        current_inventory_format = copy.deepcopy(inventory_format)\n",
    "        changed_tonnage = False\n",
    "    \n",
    "        for key, value in inner_dict.items():\n",
    "            \n",
    "            if 'category' in key:\n",
    "                current_inventory_format['category'] = []\n",
    "                acceptable_values = [\"inferred\", \"indicated\",\"measured\", \n",
    "                \"probable\", \"proven\"]\n",
    "                clean_val = value.replace(\"&\", \"+\")\n",
    "                value_list = clean_val.split(\" \")\n",
    "                \n",
    "                for val in value_list:\n",
    "                    if val.lower() in acceptable_values:\n",
    "                        current_inventory_format['category'].append(url_str + val.lower())\n",
    "            \n",
    "            elif 'zone' in key:\n",
    "                current_inventory_format['zone'] = value.lower()\n",
    "                \n",
    "                \n",
    "            elif 'cut' in key.lower() and 'unit' not in key.lower():\n",
    "                current_inventory_format['cutoff_grade']['grade_value'] = value.lower()\n",
    "            \n",
    "            elif 'cut' in key.lower() and 'unit' in key.lower():\n",
    "                if value == '%':\n",
    "                    current_inventory_format['cutoff_grade']['grade_unit'] = url_str + unit_dict['percent']\n",
    "                elif value != '':\n",
    "                    grade_unit_list = list(unit_dict.keys())\n",
    "                    found_value = find_best_match(value, grade_unit_list)\n",
    "       \n",
    "                    if found_value is not None:\n",
    "                        current_inventory_format['cutoff_grade']['grade_unit'] = url_str + unit_dict[found_value]\n",
    "                    else:\n",
    "                        current_inventory_format['cutoff_grade']['grade_unit'] = ''\n",
    "                else:\n",
    "                    current_inventory_format['cutoff_grade']['grade_unit'] = ''\n",
    "            \n",
    "            elif 'tonnage' in key.lower() and 'unit' not in key.lower():\n",
    "                current_inventory_format['ore']['ore_value'] = value.lower()\n",
    "          \n",
    "            \n",
    "            elif 'tonnage' in key.lower() and 'unit' in key.lower():\n",
    "                if value.lower() in kt_values:\n",
    "                    value = \"tonnes\"\n",
    "                    float_val = float(current_inventory_format['ore']['ore_value']) * 1000\n",
    "                    current_inventory_format['ore']['ore_value'] =  str(float_val)\n",
    "                    current_inventory_format['ore']['ore_unit'] = url_str + unit_dict[value]\n",
    "                    changed_tonnage = True\n",
    "                else:\n",
    "                    current_inventory_format['ore']['ore_unit'] = url_str + unit_dict[value.lower()]\n",
    "                \n",
    "                # print(f\"After looking at tonnage unit {current_inventory_format['ore']['ore_value']}\")\n",
    "                \n",
    "            elif 'contained' in key.lower():\n",
    "                if value == \"\":\n",
    "                    tonnes = float(current_inventory_format['ore']['ore_value'])\n",
    "                    grade = float(current_inventory_format['grade']['grade_value'])\n",
    "                    value = str(tonnes*grade/100)\n",
    "                    \n",
    "                if changed_tonnage: \n",
    "                    integer_value = float(value.lower())*1000\n",
    "                    current_inventory_format['contained_metal'] = str(integer_value)\n",
    "                else:\n",
    "                    current_inventory_format['contained_metal'] = value.lower()\n",
    "                \n",
    "            elif 'grade' in key.lower():\n",
    "                current_inventory_format['grade']['grade_unit'] = url_str + unit_dict['percent']\n",
    "                current_inventory_format['grade']['grade_value'] = value.lower()\n",
    "                \n",
    "            elif 'table' in key.lower():\n",
    "                    table_match = find_best_match(value.lower(), list(relevant_tables['Tables'].keys()), threshold = 70)\n",
    "        \n",
    "                    if table_match is not None:\n",
    "                        current_inventory_format['reference']['page_info'][0]['page'] = relevant_tables['Tables'][table_match]\n",
    "                    else:\n",
    "                        print(\"Need to find correct Page number for current table: \", value)\n",
    "                        \n",
    "        if current_inventory_format['cutoff_grade']['grade_unit'] == '' and current_inventory_format['cutoff_grade']['grade_value'] == '':\n",
    "            current_inventory_format.pop('cutoff_grade')\n",
    "            \n",
    "        output_str[\"MineralInventory\"].append(current_inventory_format)\n",
    "        count += 1\n",
    "        \n",
    "    return output_str"
   ]
  },
  {
   "cell_type": "markdown",
   "id": "c8d9d4ef-917e-42cc-a5f3-87274cfbe582",
   "metadata": {
    "tags": []
   },
   "source": [
    "## Set Up\n",
    "Goal: attach a file and ask it a series of questions"
   ]
  },
  {
   "cell_type": "code",
   "execution_count": 15,
   "id": "6db2f4a9-bbcb-41ed-8b3d-5b56cf3f4f7a",
   "metadata": {},
   "outputs": [],
   "source": [
    "instructions = \"\"\"You are a geology expert and you are very good in understanding mining reports. You will be given \n",
    "a text from a mining report and a table name. You have to find out what are the different combinations of\n",
    "classification (which is either indicated, inferred, measure, proven, probable, or total ), cut-off (represented as a decimal), tonnage (in Tonnes) and \n",
    "grade (given in %) from the given table in the text. Please extract the name of the element and place it in the output below without any additional text\n",
    "Note we only care about the mineral __COMMODITY__ represented by __SIGN__\"\n",
    "\"\"\""
   ]
  },
  {
   "cell_type": "code",
   "execution_count": 16,
   "id": "efc36fab-92d9-4cb9-b210-b2e726687307",
   "metadata": {},
   "outputs": [],
   "source": [
    "au_path = \"au_papers/\"\n",
    "mvt_path = \"mvt_zinc/\"\n",
    "zinc_path = \"zinc/\"\n",
    "file_name = \"Nash Creek and Superjack Zn Pb Ag 6-2018 PEA.pdf\""
   ]
  },
  {
   "cell_type": "code",
   "execution_count": null,
   "id": "74fce5de-8202-4a59-a6be-22c2c58fd683",
   "metadata": {},
   "outputs": [],
   "source": [
    "os.environ['url'] = 'https://w3id.org/usgs/z/4530692/V2BAGHTT'\n",
    "os.environ['commodity'] = 'zinc'\n",
    "os.environ['sign'] = 'Zn'\n",
    "os.environ['file_path'] = mvt_path + file_name"
   ]
  },
  {
   "cell_type": "code",
   "execution_count": null,
   "id": "f11d345f-0903-4a2a-8d2f-112a760cfcfa",
   "metadata": {},
   "outputs": [],
   "source": [
    "file = client.files.create(\n",
    "  file=open(f\"./reports/{os.environ.get('file_path')}\", \"rb\"),\n",
    "  purpose='assistants'\n",
    ")"
   ]
  },
  {
   "cell_type": "code",
   "execution_count": null,
   "id": "ed9f08da-bee0-4a7f-b84a-38173a8fb89e",
   "metadata": {},
   "outputs": [
    {
     "name": "stdout",
     "output_type": "stream",
     "text": [
      "Created an Assistant\n"
     ]
    }
   ],
   "source": [
    "thread_id, assistant_id =create_assistant(file.id)"
   ]
  },
  {
   "cell_type": "code",
   "execution_count": null,
   "id": "8794cb46-8a38-4205-b777-7d9a18e128bf",
   "metadata": {},
   "outputs": [
    {
     "name": "stdout",
     "output_type": "stream",
     "text": [
      "Current run id = run_4Lyyd32biOpDUsQNUMZAFN0d thread_id = thread_OccNkJMryayzdqpdSRCmOQwy\n",
      "Checking run status: in_progress\n",
      "Run is completed. Printing the entire thread now in sequential order \n",
      "\n",
      "Most run run_4Lyyd32biOpDUsQNUMZAFN0d response: YES \n",
      "Response: YES\n",
      "File was correctly uploaded\n"
     ]
    }
   ],
   "source": [
    "thread_id, assistant_id = check_file(thread_id, assistant_id)"
   ]
  },
  {
   "cell_type": "markdown",
   "id": "bab09425-a07d-4c43-a54f-c564d14ec431",
   "metadata": {
    "jp-MarkdownHeadingCollapsed": true,
    "tags": []
   },
   "source": [
    "## Extract Document Reference"
   ]
  },
  {
   "cell_type": "code",
   "execution_count": null,
   "id": "eb4e945f-2afd-4427-95d9-54802e548c06",
   "metadata": {},
   "outputs": [],
   "source": [
    "document_ref = f\"\"\"{{\n",
    "              \"title\": \"\",\n",
    "              \"doi\" : \"{os.environ.get(\"url\")}\"\n",
    "              \"authors\": \"[]\",\n",
    "              \"year\": \"\",\n",
    "              \"month\": \"\",\n",
    "              \"volume\": \"\",\n",
    "              \"issue\": \"\",\n",
    "              \"description\": \"\"\n",
    "            }}\"\"\""
   ]
  },
  {
   "cell_type": "code",
   "execution_count": null,
   "id": "1696dbf0-f4ae-473f-a491-347eccb5d535",
   "metadata": {},
   "outputs": [],
   "source": [
    "name_instructions = f\"\"\"Please tell me description information about the attached document such as the title, \n",
    "list of author names, year and month it was published as integers, volume, issue, and a one sentence description. \n",
    "Return the response as a json structure that follows this format {document_ref}. Only return the json structure.\n",
    "Any unknown values should be returned as \"\"\n",
    "\"\"\""
   ]
  },
  {
   "cell_type": "code",
   "execution_count": null,
   "id": "680ae06f-67fe-4329-8a63-b815fc44540e",
   "metadata": {},
   "outputs": [
    {
     "name": "stdout",
     "output_type": "stream",
     "text": [
      "Creating the thread\n",
      "Current run id = run_k84RyV3KMZ3XqfGfPHLSPbvt thread_id = thread_OccNkJMryayzdqpdSRCmOQwy\n"
     ]
    }
   ],
   "source": [
    "print(\"Creating the thread\")\n",
    "run = client.beta.threads.runs.create(\n",
    "  thread_id=thread_id,\n",
    "  assistant_id=assistant_id,\n",
    "  instructions= name_instructions\n",
    ")\n",
    "print(f\"Current run id = {run.id} thread_id = {thread_id}\")"
   ]
  },
  {
   "cell_type": "code",
   "execution_count": null,
   "id": "02d5ca28-4c35-40d7-ba26-f20c53dbcd21",
   "metadata": {},
   "outputs": [
    {
     "name": "stdout",
     "output_type": "stream",
     "text": [
      "Retrieving the response\n",
      "\n",
      "Checking run status: in_progress\n",
      "Run is completed. Printing the entire thread now in sequential order \n",
      "\n",
      "Most run run_k84RyV3KMZ3XqfGfPHLSPbvt response: ```json\n",
      "{\n",
      "  \"title\": \"Technical Report and Preliminary Economic Assessment on the Nash Creek and Superjack Project\",\n",
      "  \"doi\": \"\",\n",
      "  \"authors\": \"[Eugene Puritch, D. Grant Feasby, Alfred S. Hayden, Ken Kuchling, Kirk Rodgers, James Barr, Cameron Bartsch]\",\n",
      "  \"year\": \"2018\",\n",
      "  \"month\": \"6\",\n",
      "  \"volume\": \"\",\n",
      "  \"issue\": \"\",\n",
      "  \"description\": \"This report provides a technical review and preliminary economic assessment for the Nash Creek and Superjack Zinc-Lead-Silver Project in New Brunswick for Callinex Mines Inc.\"\n",
      "}\n",
      "``` \n"
     ]
    }
   ],
   "source": [
    "print(\"Retrieving the response\\n\")\n",
    "ans = get_assistant_response(thread_id, run.id)"
   ]
  },
  {
   "cell_type": "code",
   "execution_count": 35,
   "id": "89bc9f3f-1512-4844-9c03-d5c59aa75a1e",
   "metadata": {},
   "outputs": [],
   "source": [
    "document_dict_temp = extract_json_strings(ans)\n",
    "document_dict = clean_document_dict(document_dict_temp)\n",
    "doc_month = document_dict['month']\n",
    "doc_year = document_dict['year']\n",
    "doc_name = document_dict['title']\n",
    "doc_date = f\"{doc_year}-{doc_month}\""
   ]
  },
  {
   "cell_type": "code",
   "execution_count": 36,
   "id": "eacad1da-ba54-42ad-b737-678b0a2ac741",
   "metadata": {},
   "outputs": [
    {
     "name": "stdout",
     "output_type": "stream",
     "text": [
      "Here is the reference material for the document: \n",
      " {'title': 'Technical Report and Preliminary Economic Assessment on the Nash Creek and Superjack Project', 'doi': 'https://w3id.org/usgs/z/4530692/V2BAGHTT', 'authors': ['Eugene Puritch', 'D. Grant Feasby', 'Alfred S. Hayden', 'Ken Kuchling', 'Kirk Rodgers', 'James Barr', 'Cameron Bartsch'], 'year': '2018', 'month': '6', 'description': 'This report provides a technical review and preliminary economic assessment for the Nash Creek and Superjack Zinc-Lead-Silver Project in New Brunswick for Callinex Mines Inc.'}\n"
     ]
    }
   ],
   "source": [
    "print(f\"Here is the reference material for the document: \\n {document_dict}\")"
   ]
  },
  {
   "cell_type": "markdown",
   "id": "5ee7cb8b-c109-44c2-8fc7-bf75efe3fbb0",
   "metadata": {
    "jp-MarkdownHeadingCollapsed": true,
    "tags": []
   },
   "source": [
    "## Filling out Mineral Site"
   ]
  },
  {
   "cell_type": "code",
   "execution_count": 37,
   "id": "95ca6160-d223-49d9-8cba-f6dfc8968dea",
   "metadata": {},
   "outputs": [],
   "source": [
    "## json strings\n",
    "site_format = f\"\"\"\n",
    "  {{ \"MineralSite\":[\n",
    "      \"source_id\": \"{os.environ.get(\"url\")}\",\n",
    "      \"record_id\": \"1\",\n",
    "      \"name\": \"{doc_name}\",\n",
    "      \"location_info\": {{\n",
    "        \"location\": \"POINT()\",\n",
    "        \"crs\": \"WGS84\"\n",
    "        \"country\": \"\",\n",
    "        \"state_or_province\": \"\",\n",
    "        }}\n",
    "    ] }}\n",
    "\"\"\""
   ]
  },
  {
   "cell_type": "code",
   "execution_count": 38,
   "id": "94db5cc0-fe92-4845-9ff5-62a832d74fb3",
   "metadata": {},
   "outputs": [],
   "source": [
    "loc_instructions = f\"\"\"Find the geographic location of the mining \n",
    "site in the document and put it in geographic coordinates using latitude and longitude that will then be converted to\n",
    "geometry point structure using WGS84 standard. If there are multiple points the format will look like: \n",
    "\"MULTIPOINT(long1 lat1,long2 lat2, ..)\". If there is no location information or if the correct conversions cannot be made replace the value as empty strings. \n",
    "Fill out the JSON structure Mineral Site based on the geographic information found.\n",
    "Here is an example format: Mineral Site: {site_format}.\n",
    "Return only the filled in MineralSite Json Structure with the given keys and found values. Do not \n",
    "add any additional comments and do not use // within the JSON structure. Only return one Json structure.\n",
    "\"\"\""
   ]
  },
  {
   "cell_type": "code",
   "execution_count": 39,
   "id": "5121c581-c90b-4935-b261-62c13f2824a9",
   "metadata": {},
   "outputs": [
    {
     "name": "stdout",
     "output_type": "stream",
     "text": [
      "Creating the thread\n",
      "Current run id = run_VKG1xEq7wXHCvuHbHIHxtMf2 thread_id = thread_OccNkJMryayzdqpdSRCmOQwy\n"
     ]
    }
   ],
   "source": [
    "print(\"Creating the thread\")\n",
    "run = client.beta.threads.runs.create(\n",
    "  thread_id=thread_id,\n",
    "  assistant_id=assistant_id,\n",
    "  instructions=loc_instructions\n",
    ")\n",
    "print(f\"Current run id = {run.id} thread_id = {thread_id}\")"
   ]
  },
  {
   "cell_type": "code",
   "execution_count": 40,
   "id": "0c8ae3e0-b4e7-4001-a3ae-4f9fb21fd964",
   "metadata": {},
   "outputs": [
    {
     "name": "stdout",
     "output_type": "stream",
     "text": [
      "Retrieving the response\n",
      "\n",
      "Checking run status: in_progress\n",
      "Run is completed. Printing the entire thread now in sequential order \n",
      "\n",
      "Most run run_VKG1xEq7wXHCvuHbHIHxtMf2 response: ```json\n",
      "{\n",
      "  \"MineralSite\":[\n",
      "    {\n",
      "      \"source_id\": \"https://w3id.org/usgs/z/4530692/V2BAGHTT\",\n",
      "      \"record_id\": \"1\",\n",
      "      \"name\": \"Technical Report and Preliminary Economic Assessment on the Nash Creek and Superjack Project\",\n",
      "      \"location_info\": {\n",
      "        \"location\": \"MULTIPOINT(-66.1 47.883333,-66.083333 47.383333)\",\n",
      "        \"crs\": \"WGS84\",\n",
      "        \"country\": \"Canada\",\n",
      "        \"state_or_province\": \"New Brunswick\"\n",
      "      }\n",
      "    }\n",
      "  ]\n",
      "}\n",
      "``` \n"
     ]
    }
   ],
   "source": [
    "print(\"Retrieving the response\\n\")\n",
    "ans = get_assistant_response(thread_id, run.id)"
   ]
  },
  {
   "cell_type": "code",
   "execution_count": 41,
   "id": "e3e6bddb-a6dc-4b39-8aac-7968595fa591",
   "metadata": {},
   "outputs": [
    {
     "name": "stdout",
     "output_type": "stream",
     "text": [
      "{'MineralSite': [{'source_id': 'https://w3id.org/usgs/z/4530692/V2BAGHTT', 'record_id': '1', 'name': 'Technical Report and Preliminary Economic Assessment on the Nash Creek and Superjack Project', 'location_info': {'location': 'MULTIPOINT(-66.1 47.883333,-66.083333 47.383333)', 'crs': 'WGS84', 'country': 'Canada', 'state_or_province': 'New Brunswick'}}]}\n"
     ]
    }
   ],
   "source": [
    "mineral_site_json = extract_json_strings(ans)\n",
    "if mineral_site_json is None:\n",
    "    mineral_site_json = json.loads(site_format)\n",
    "    \n",
    "\n",
    "mineral_site_json = clean_mineral_site_json(mineral_site_json)\n",
    "\n",
    "print(mineral_site_json)\n"
   ]
  },
  {
   "cell_type": "markdown",
   "id": "5597f611-bb0f-447d-8872-26bebbdc08d8",
   "metadata": {
    "jp-MarkdownHeadingCollapsed": true,
    "tags": []
   },
   "source": [
    "## Filling out Deposit Types"
   ]
  },
  {
   "cell_type": "code",
   "execution_count": 42,
   "id": "f3988717-e1d1-4721-9f81-e1f72f000e3b",
   "metadata": {},
   "outputs": [
    {
     "name": "stdout",
     "output_type": "stream",
     "text": [
      "Deleted assistant asst_MpNbOSUJ8HxLorblULsyNrYK\n"
     ]
    }
   ],
   "source": [
    "resp_code = delete_assistant(assistant_id)\n",
    "\n",
    "if resp_code == 200:\n",
    "    print(f\"Deleted assistant {assistant_id}\")\n",
    "else:\n",
    "    print(f\"Deletion FAILED\")\n",
    "    "
   ]
  },
  {
   "cell_type": "code",
   "execution_count": 43,
   "id": "19c5da2a-cb46-42aa-a355-843b228711d3",
   "metadata": {},
   "outputs": [
    {
     "name": "stdout",
     "output_type": "stream",
     "text": [
      "Created an Assistant\n"
     ]
    }
   ],
   "source": [
    "file = client.files.create(\n",
    "  file=open(f\"./reports/{os.environ.get('file_path')}\", \"rb\"),\n",
    "  purpose='assistants'\n",
    ")\n",
    "thread_id, assistant_id =create_assistant(file.id)"
   ]
  },
  {
   "cell_type": "code",
   "execution_count": 44,
   "id": "8b584ff0-2396-485e-81fa-28311dd8869f",
   "metadata": {},
   "outputs": [
    {
     "name": "stdout",
     "output_type": "stream",
     "text": [
      "Current run id = run_fBax9he6dP5EeSPcmvk5GYeu thread_id = thread_62YdHxuu5oUCZ0b5VEOUX8OQ\n",
      "Checking run status: in_progress\n",
      "Run is completed. Printing the entire thread now in sequential order \n",
      "\n",
      "Most run run_fBax9he6dP5EeSPcmvk5GYeu response: YES \n",
      "Response: YES\n",
      "File was correctly uploaded\n"
     ]
    }
   ],
   "source": [
    "thread_id, assistant_id = check_file(thread_id, assistant_id)"
   ]
  },
  {
   "cell_type": "code",
   "execution_count": 45,
   "id": "95b4948a-5235-4eed-9fc7-056bc2555f7f",
   "metadata": {},
   "outputs": [],
   "source": [
    "minmod_deposit_types = read_csv_to_dict(\"./codes/minmod_deposit_types.csv\")\n",
    "deposit_id = {}\n",
    "for key in minmod_deposit_types:\n",
    "    deposit_id[key['Deposit type']] = key['Minmod ID']"
   ]
  },
  {
   "cell_type": "code",
   "execution_count": 46,
   "id": "afe37a7a-ea73-46aa-ac69-8891156ddb1d",
   "metadata": {},
   "outputs": [],
   "source": [
    "deposit_format = \"\"\"\n",
    "{\n",
    "  \"deposit_type\": [\n",
    "    {\n",
    "      \"id\":  \"deposit type\"\n",
    "    }\n",
    "  ]\n",
    "}\n",
    "\"\"\"\n",
    "deposit_format_correct = \"\"\"\n",
    "{\n",
    "  \"deposit_type\": [\n",
    "    {\n",
    "      \"id\":  \"https://minmod.isi.edu/resource/deposit_id\"\n",
    "    }\n",
    "  ]\n",
    "}\n",
    "\"\"\"\n",
    "deposit_instructions = f\"\"\"Identify the deposit types from the attached document. Note that the main\n",
    "commodity in this paper is {os.environ.get('commodity')}.The output was to be formatted in the JSON structure Deposit_Type\n",
    "{deposit_format}.  Please return the filled in Deposit_Type json Structure or \n",
    "leave the list empty if there are No matching deposit types. Return only the json structure.\n",
    "\"\"\"\n",
    "check_deposit_instructions = f\"\"\"Given this json structure with deposit types __DEPOSIT_TYPES__ and with the main commodity being {os.environ.get('commodity')}, \n",
    "check that each deposit is in the acceptable list of deposits or there is a deposit type that appears to be close. Update the \n",
    "deposit type name with the correct ID from this given list {deposit_id}. The return format\n",
    "should only be the JSON structure: {deposit_format_correct} where deposit_id is changed to the correct ID and the https url is still included.\n",
    "If there is no match return an empty list for deposit_type. Do not return any additional comments and do not use\n",
    "// in the json structure.\n",
    "\"\"\"\n"
   ]
  },
  {
   "cell_type": "code",
   "execution_count": 47,
   "id": "53949f29-9116-4caa-a0c8-12c737d12b95",
   "metadata": {},
   "outputs": [],
   "source": [
    "# print(deposit_instructions)"
   ]
  },
  {
   "cell_type": "code",
   "execution_count": 48,
   "id": "e2b5beec-2b91-4155-9c56-f29527dd3b9e",
   "metadata": {},
   "outputs": [
    {
     "name": "stdout",
     "output_type": "stream",
     "text": [
      "Creating the run\n",
      "Current run id = run_pHdLVn7zAtMynclwIg9WGrQP thread_id = thread_62YdHxuu5oUCZ0b5VEOUX8OQ\n"
     ]
    }
   ],
   "source": [
    "print(\"Creating the run\")\n",
    "run = client.beta.threads.runs.create(\n",
    "  thread_id=thread_id,\n",
    "  assistant_id=assistant_id,\n",
    "  instructions=deposit_instructions\n",
    ")\n",
    "print(f\"Current run id = {run.id} thread_id = {thread_id}\")"
   ]
  },
  {
   "cell_type": "code",
   "execution_count": 49,
   "id": "65929003-8244-4b07-922f-cfc03d977885",
   "metadata": {
    "tags": []
   },
   "outputs": [
    {
     "name": "stdout",
     "output_type": "stream",
     "text": [
      "Retrieving the response\n",
      "\n",
      "Checking run status: in_progress\n",
      "Run is completed. Printing the entire thread now in sequential order \n",
      "\n",
      "Most run run_pHdLVn7zAtMynclwIg9WGrQP response: The deposit types identified in the attached document related to zinc are as follows:\n",
      "\n",
      "```json\n",
      "{\n",
      "  \"deposit_type\": [\n",
      "    {\n",
      "      \"id\": \"zinc-lead-copper felsic-volcaniclastic sericite-quartz +/- carbonate rich normal\"\n",
      "    },\n",
      "    {\n",
      "      \"id\": \"bimodal-felsic\"\n",
      "    },\n",
      "    {\n",
      "      \"id\": \"felsic-siliciclastic\"\n",
      "    }\n",
      "  ]\n",
      "}\n",
      "```\n",
      "\n",
      "These types are associated with the Superjack Deposits as described in the document【12†source】. \n"
     ]
    }
   ],
   "source": [
    "print(\"Retrieving the response\\n\")\n",
    "ans = get_assistant_response(thread_id, run.id)"
   ]
  },
  {
   "cell_type": "code",
   "execution_count": 50,
   "id": "c389e7bd-ba88-492e-bd24-5c05ea69cbef",
   "metadata": {},
   "outputs": [
    {
     "name": "stdout",
     "output_type": "stream",
     "text": [
      "deposit types: {'deposit_type': [{'id': 'zinc-lead-copper felsic-volcaniclastic sericite-quartz +/- carbonate rich normal'}, {'id': 'bimodal-felsic'}, {'id': 'felsic-siliciclastic'}]}\n"
     ]
    }
   ],
   "source": [
    "deposit_types_initial = extract_json_strings(ans)\n",
    "print(f\"deposit types: {deposit_types_initial}\")"
   ]
  },
  {
   "cell_type": "code",
   "execution_count": 51,
   "id": "e6be2ac6-47ca-4059-81ff-6c2a9e9b2b01",
   "metadata": {},
   "outputs": [
    {
     "name": "stdout",
     "output_type": "stream",
     "text": [
      "Creating the run\n",
      "Current run id = run_kXGZDoIcXhkvY4xlGXmaHENg thread_id = thread_62YdHxuu5oUCZ0b5VEOUX8OQ\n",
      "Checking run status: in_progress\n",
      "Run is completed. Printing the entire thread now in sequential order \n",
      "\n",
      "Most run run_kXGZDoIcXhkvY4xlGXmaHENg response: Based on the deposit types identified in the attached document for the Superjack Deposits【11†source】, the relevant ID from the given list for \"zinc-lead-copper felsic-volcaniclastic\" could be related to \"Felsic-siliciclastic VMS\" which has the ID 'Q413', considering the terms \"felsic-volcaniclastic\" and \"felsic-siliciclastic\" seem similar in geological context. There is no direct match for \"bimodal-felsic\", but it may be related to \"Bimodal-mafic VMS\", which has the ID 'Q411', or \"Bimodal felsic VMS\", which has the ID 'Q412'. There is no exact term in the list for \"sericite-quartz +/- carbonate rich normal\" or something similar.\n",
      "\n",
      "Based on the best fit for the identified deposit types, the JSON structure would be:\n",
      "\n",
      "```json\n",
      "{\n",
      "  \"deposit_type\": [\n",
      "    {\n",
      "      \"id\":  \"https://minmod.isi.edu/resource/Q413\"\n",
      "    },\n",
      "    {\n",
      "      \"id\":  \"https://minmod.isi.edu/resource/Q411\"\n",
      "    },\n",
      "    {\n",
      "      \"id\":  \"https://minmod.isi.edu/resource/Q412\"\n",
      "    }\n",
      "  ]\n",
      "}\n",
      "```\n",
      "\n",
      "Please note that 'Q413' is for \"Felsic-siliciclastic VMS\", 'Q411' for \"Bimodal-mafic VMS\", and 'Q412' for \"Bimodal felsic VMS\". The terms do not exactly match the deposit types provided in the document, but these seem to be the closest available IDs in the given list. If these do not sufficiently match the deposit types required, you may choose to return an empty list as per your instructions. \n",
      "Updated file: \n",
      " {'deposit_type': [{'id': 'https://minmod.isi.edu/resource/Q413'}, {'id': 'https://minmod.isi.edu/resource/Q411'}, {'id': 'https://minmod.isi.edu/resource/Q412'}]}\n"
     ]
    }
   ],
   "source": [
    "if deposit_types_initial is not None and len(deposit_types_initial['deposit_type']) > 0:\n",
    "    print(\"Creating the run\")\n",
    "    run = client.beta.threads.runs.create(\n",
    "      thread_id=thread_id,\n",
    "      assistant_id=assistant_id,\n",
    "      instructions=check_deposit_instructions.replace(\"__DEPOSIT_TYPE__\", str(deposit_types_initial))\n",
    "    )\n",
    "    print(f\"Current run id = {run.id} thread_id = {thread_id}\")\n",
    "    \n",
    "    ans = get_assistant_response(thread_id, run.id)\n",
    "    deposit_types_json = extract_json_strings(ans)\n",
    "    \n",
    "    print(\"Updated file: \\n\",deposit_types_json)\n",
    "else:\n",
    "    deposit_types_json = \"{'deposit_type':[]}\""
   ]
  },
  {
   "cell_type": "code",
   "execution_count": 52,
   "id": "167c3038-dec6-4235-bc3a-444a9bfd3308",
   "metadata": {},
   "outputs": [
    {
     "name": "stdout",
     "output_type": "stream",
     "text": [
      "{'deposit_type': [{'id': 'https://minmod.isi.edu/resource/Q413'}, {'id': 'https://minmod.isi.edu/resource/Q411'}, {'id': 'https://minmod.isi.edu/resource/Q412'}]}\n"
     ]
    }
   ],
   "source": [
    "print(deposit_types_json)"
   ]
  },
  {
   "cell_type": "markdown",
   "id": "e3115791-9e64-415b-8947-38752c12e5d4",
   "metadata": {
    "tags": []
   },
   "source": [
    "## Filling out Mineral Inventory"
   ]
  },
  {
   "cell_type": "code",
   "execution_count": 53,
   "id": "ba21fd61-1972-4d21-9c5e-229cd2fdb278",
   "metadata": {},
   "outputs": [
    {
     "name": "stdout",
     "output_type": "stream",
     "text": [
      "Deleted assistant asst_uX8TZk8PoXO0d8WB6DV5g0Oj\n"
     ]
    }
   ],
   "source": [
    "resp_code = delete_assistant(assistant_id)\n",
    "\n",
    "if resp_code == 200:\n",
    "    print(f\"Deleted assistant {assistant_id}\")\n",
    "else:\n",
    "    print(f\"Deletion FAILED\")"
   ]
  },
  {
   "cell_type": "code",
   "execution_count": 54,
   "id": "32fb0cf4-4ebc-4d7a-a4b3-df863854666b",
   "metadata": {},
   "outputs": [
    {
     "name": "stdout",
     "output_type": "stream",
     "text": [
      "Created an Assistant\n"
     ]
    }
   ],
   "source": [
    "file = client.files.create(\n",
    "  file=open(f\"./reports/{os.environ.get('file_path')}\", \"rb\"),\n",
    "  purpose='assistants'\n",
    ")\n",
    "thread_id, assistant_id =create_assistant(file.id)"
   ]
  },
  {
   "cell_type": "code",
   "execution_count": 55,
   "id": "3d7e15eb-b367-4d18-b5e3-68b73cbae55c",
   "metadata": {},
   "outputs": [
    {
     "name": "stdout",
     "output_type": "stream",
     "text": [
      "Current run id = run_pS9lZznZignO3HcXeJSmLj8Z thread_id = thread_thmZ5GjNw2M4jGE5qF5KpWV3\n",
      "Checking run status: in_progress\n",
      "Run is completed. Printing the entire thread now in sequential order \n",
      "\n",
      "Most run run_pS9lZznZignO3HcXeJSmLj8Z response: YES \n",
      "Response: YES\n",
      "File was correctly uploaded\n"
     ]
    }
   ],
   "source": [
    "thread_id, assistant_id = check_file(thread_id, assistant_id)"
   ]
  },
  {
   "cell_type": "code",
   "execution_count": 57,
   "id": "ff2360e8-ee28-4fc9-ac00-69af8beee256",
   "metadata": {},
   "outputs": [],
   "source": [
    "minmod_commodities = read_csv_to_dict(\"./codes/minmod_commodities.csv\")\n",
    "commodities = {}\n",
    "for key in minmod_commodities:\n",
    "    commodities[key['CommodityinGeoKb']] = key['minmod_id']"
   ]
  },
  {
   "cell_type": "code",
   "execution_count": 58,
   "id": "ea78f148-44d8-426f-8412-0d37bcb5465a",
   "metadata": {},
   "outputs": [],
   "source": [
    "minmod_units = read_csv_to_dict(\"./codes/minmod_units.csv\")\n",
    "correct_units = {}\n",
    "for key in minmod_units:\n",
    "    correct_units[key['unit name']] = key['minmod_id']\n",
    "    correct_units[key['unit aliases']] = key['minmod_id']"
   ]
  },
  {
   "cell_type": "code",
   "execution_count": 59,
   "id": "fe3741e8-48f6-4922-a8e1-52fb140fa8a3",
   "metadata": {},
   "outputs": [],
   "source": [
    "dictionary_format = f\"\"\"\n",
    "        {{ \"extractions\":[\n",
    "        {{\n",
    "        \"category\": \"\",\n",
    "        \"zone\": \"\",\n",
    "        \"{os.environ.get(\"commodity\")} Cut-Off\": \"\",\n",
    "        \"{os.environ.get(\"commodity\")} Cut-Off Unit\": \"\",\n",
    "        \"{os.environ.get(\"commodity\")} Tonnage\": \"\",\n",
    "        \"{os.environ.get(\"commodity\")} Tonnage Unit\": \"\",\n",
    "        \"{os.environ.get(\"commodity\")} Grade Percent\": \"\",\n",
    "        \"Contained_metal\": \"\",\n",
    "        \"Table\": \"\"\n",
    "        }}\n",
    "        ]\n",
    "    }}\n",
    "\n",
    "\"\"\"\n",
    "\n",
    "inventory_format = {\n",
    "    \"commodity\": \"https://minmod.isi.edu/resource/\" + commodities[os.environ.get('commodity')],\n",
    "    \"category\": \"\",\n",
    "    \"ore\": {\n",
    "        \"ore_unit\": \"unit\",\n",
    "        \"ore_value\": \"value\"\n",
    "    },\n",
    "    \"grade\": {\n",
    "        \"grade_unit\": \"unit\",\n",
    "        \"grade_value\": \"value\"\n",
    "    },\n",
    "    \"cutoff_grade\": {\n",
    "        \"grade_unit\": \"unit\",\n",
    "        \"grade_value\": \"value\"\n",
    "    },\n",
    "    \"contained_metal\": \"ore_value * grade_value\",  # Note: This won't be evaluated here\n",
    "    \"reference\": {\n",
    "        \"document\": document_dict,\n",
    "        \"page_info\": [\n",
    "            {\n",
    "                \"page\": 0,\n",
    "                \"bounding_box\": {\n",
    "                    \"x_min\": \"\",\n",
    "                    \"x_max\": \"\",\n",
    "                    \"y_min\": \"\",\n",
    "                    \"y_max\": \"\"\n",
    "                }\n",
    "            }\n",
    "        ]\n",
    "    },\n",
    "    \"date\": doc_date,\n",
    "    \"zone\": \"\",\n",
    "}"
   ]
  },
  {
   "cell_type": "code",
   "execution_count": 81,
   "id": "7c88bae3-a93c-415d-9853-3360e20136a3",
   "metadata": {},
   "outputs": [],
   "source": [
    "find_relevant_table_instructions = f\"\"\"\n",
    "Can you go through the document, find any tables that discuss mineral resources or mineral reserves if\n",
    "resource estimates were not present. Find tables that are closest to the document date: {doc_date}.\n",
    "Include the page number from the document that you got the table from. The page number can be calculated by \n",
    "counting from the first page up to the page that the table was found.\n",
    "Return the list of tables as a json structure: {{\"Tables\": {{\"Table 1 Name\": page_number, \n",
    "\"Table 2 Name\": page_number}}}}. Only return the json structure.\n",
    "\"\"\"\n",
    "\n",
    "find_relevant_categories = f\"\"\" From this list of tables: __RELEVANT__, return the json structure that\n",
    "contains the list of categories found in the tables. The allotted categories are [\"inferred\", \"indicated\",\"measured\", \n",
    "\"probable\", \"proven\"]. The Return value should be {{\"categories\": [value1, value2, ...]}}\n",
    "\"\"\"\n",
    "\n",
    "find_category_rows = f\"\"\" From this list of tables: __RELEVANT__, create a python dictionary that\n",
    "captures all rows that describe {os.environ.get('commodity')} resource estimate data. Each \n",
    "relevant row should have the category __CATEGORY__. The rows should also include the following headers.\n",
    "Zone: the named area where the resources were extracted from (Note: total can be the sum of all given zones without the attached category).\n",
    "{os.environ.get('sign')} Cut-Off: The threshold grade used to determine the economic viability of \n",
    "mining the {os.environ.get('commodity')} resource (this might not be provided in some tables). \n",
    "{os.environ.get('sign')} Cut-Off Unit: The unit that the cut off is presented in, which is typically percent or\n",
    "{os.environ.get('sign')} Equivalent percentage or dollar per tonne. \n",
    "{os.environ.get('sign')} Tonnage: The calculated or estimated tonnage for the resource. \n",
    "{os.environ.get('sign')} Tonnage Unit: The unit that the tonnage was presented in, which should be in tonnes, thousand tonnes, \n",
    "million tonnes, or gram per tonne,. \n",
    "{os.environ.get('sign')} Grade %: The concentration of {os.environ.get('commodity')} in the resource, which should \n",
    "be converted into a percentage. \n",
    "Contained_metal is the tonnage value times {os.environ.get('commodity')} grade percentage and then divided by 100 but should be reported \n",
    "as the final number. Unit values should either be converted into tonnes, \n",
    "million tonnes, gram per tonne, or percent. Also return what tables the rows were extracted from.\n",
    "If any values are unknown return it as an empty string ''\n",
    "\n",
    "Return the information as dictionary with an internal list of keys and values, wrapped in \"\", that follows this\n",
    "format: {dictionary_format}. Do not add any additional comments using // in the returned dictionary format.\n",
    "\"\"\"\n",
    "\n",
    "find_additional_categories = f\"\"\" Follow the same instructions as the previous extraction for tables __RELEVANT__\n",
    "but extract for rows that relate to the category, __CATEGORY__. Return the information as dictionary with an internal list of keys and values, wrapped in \"\", that follows this\n",
    "format: {dictionary_format}. Do not add any additional comments using // in the returned dictionary format. If any values are unknown make sure to\n",
    "return them as empty strings.\n",
    "\n",
    "Note if no rows are found for __CATEGORY__ do not return any json.\n",
    "\"\"\""
   ]
  },
  {
   "cell_type": "code",
   "execution_count": 61,
   "id": "df92bcbc-ed09-4f22-ad69-60b41d894d18",
   "metadata": {},
   "outputs": [],
   "source": [
    "def extract_by_category(curr_cat, relevant_tables, thread_id, assistant_id):\n",
    "    if relevant_tables is not None and len(relevant_tables['Tables']) > 0:\n",
    "        print(\"Creating the thread\")\n",
    "        if curr_cat == \"INFERRED\":\n",
    "            use_instructions = find_category_rows.replace(\"__RELEVANT__\", str(relevant_tables)).replace(\"__CATEGORY__\", curr_cat)\n",
    "        else:\n",
    "            use_instructions = find_additional_categories.replace(\"__RELEVANT__\", str(relevant_tables)).replace(\"__CATEGORY__\", curr_cat)\n",
    "            \n",
    "        # print(use_instructions)\n",
    "        run = client.beta.threads.runs.create(\n",
    "        thread_id=thread_id,\n",
    "        assistant_id=assistant_id,\n",
    "        instructions=use_instructions\n",
    "        )\n",
    "\n",
    "        print(f\"Current run id = {run.id} thread_id = {thread_id}\")\n",
    "\n",
    "        print(\"Retrieving the response\\n\")\n",
    "        ans = get_assistant_response(thread_id, run.id)\n",
    "\n",
    "\n",
    "        extraction_dict = extract_json_strings(ans, remove_comments = True)\n",
    "\n",
    "        return extraction_dict\n",
    "\n",
    "    else:\n",
    "        return None"
   ]
  },
  {
   "cell_type": "code",
   "execution_count": 66,
   "id": "970f11be-0363-4973-b023-3dc3d074bc65",
   "metadata": {},
   "outputs": [
    {
     "name": "stdout",
     "output_type": "stream",
     "text": [
      "Creating the thread\n",
      "Current run id = run_2MV0fGkM2retPEbaJQqRZKJs thread_id = thread_thmZ5GjNw2M4jGE5qF5KpWV3\n"
     ]
    }
   ],
   "source": [
    "print(\"Creating the thread\")\n",
    "run = client.beta.threads.runs.create(\n",
    "  thread_id=thread_id,\n",
    "  assistant_id=assistant_id,\n",
    "  instructions=find_relevant_table_instructions\n",
    ")\n",
    "print(f\"Current run id = {run.id} thread_id = {thread_id}\")"
   ]
  },
  {
   "cell_type": "code",
   "execution_count": 67,
   "id": "f3c2bee0-eae1-44f7-9305-d16c3ac54b65",
   "metadata": {
    "scrolled": true,
    "tags": []
   },
   "outputs": [
    {
     "name": "stdout",
     "output_type": "stream",
     "text": [
      "Retrieving the response\n",
      "\n",
      "Checking run status: in_progress\n",
      "Run is completed. Printing the entire thread now in sequential order \n",
      "\n",
      "Most run run_2MV0fGkM2retPEbaJQqRZKJs response: {\n",
      "  \"Tables\": {\n",
      "    \"TABLE 14.12 MINERAL RESOURCE CLASSIFICATION CRITERIA\": \"[11†source]\",\n",
      "    \"TABLE 1.1 NASH CREEK AND SUPERJACK MINERAL RESOURCE ESTIMATES (1-6)\": \"[12†source]\"\n",
      "  }\n",
      "} \n"
     ]
    }
   ],
   "source": [
    "print(\"Retrieving the response\\n\")\n",
    "ans = get_assistant_response(thread_id, run.id)"
   ]
  },
  {
   "cell_type": "code",
   "execution_count": 68,
   "id": "f3ca9268-61f9-471c-b084-4ef456b18c54",
   "metadata": {},
   "outputs": [],
   "source": [
    "relevant_tables = extract_json_strings(ans)"
   ]
  },
  {
   "cell_type": "code",
   "execution_count": 71,
   "id": "a2b86584-f027-4a77-9f20-0a07281cd342",
   "metadata": {},
   "outputs": [
    {
     "name": "stdout",
     "output_type": "stream",
     "text": [
      "{'Tables': {'TABLE 1.1 NASH CREEK AND SUPERJACK MINERAL RESOURCE ESTIMATES (1-6)': '14'}}\n"
     ]
    }
   ],
   "source": [
    "print(relevant_tables)"
   ]
  },
  {
   "cell_type": "code",
   "execution_count": 72,
   "id": "4c2a8526-2cd2-458a-a333-ea554050aca5",
   "metadata": {},
   "outputs": [
    {
     "name": "stdout",
     "output_type": "stream",
     "text": [
      "Creating the thread\n",
      "Current run id = run_YvvsezrEt1dCgZZCZjPaV6pp thread_id = thread_thmZ5GjNw2M4jGE5qF5KpWV3\n",
      "Retrieving the response\n",
      "\n",
      "Checking run status: in_progress\n",
      "Run is completed. Printing the entire thread now in sequential order \n",
      "\n",
      "Most run run_YvvsezrEt1dCgZZCZjPaV6pp response: I apologize for any confusion. The JSON structure for the categories found within the tables in the mining report should be provided as follows:\n",
      "\n",
      "```json\n",
      "{\n",
      "  \"categories\": [\"indicated\", \"inferred\"]\n",
      "}\n",
      "```\n",
      "\n",
      "These categories are taken from Table 14.12, which details the criteria for mineral resource classification【11†source】. The other categories (\"measured\", \"probable\", \"proven\") were not mentioned in the provided quotes from the report. If such categories exist in the report, a more detailed analysis or further searches would be required to identify them. \n"
     ]
    }
   ],
   "source": [
    "## return list of categories to extract then can decide which ones to run\n",
    "print(\"Creating the thread\")\n",
    "run = client.beta.threads.runs.create(\n",
    "  thread_id=thread_id,\n",
    "  assistant_id=assistant_id,\n",
    "  instructions=find_relevant_categories\n",
    ")\n",
    "print(f\"Current run id = {run.id} thread_id = {thread_id}\")\n",
    "\n",
    "print(\"Retrieving the response\\n\")\n",
    "ans = get_assistant_response(thread_id, run.id)"
   ]
  },
  {
   "cell_type": "code",
   "execution_count": 73,
   "id": "ad3bc0f6-d4e8-40ce-9a7e-15f51d26c942",
   "metadata": {},
   "outputs": [],
   "source": [
    "relevant_cats = extract_json_strings(ans)\n",
    "cat_list = relevant_cats[\"categories\"]"
   ]
  },
  {
   "cell_type": "code",
   "execution_count": 96,
   "id": "103cbf88-d276-41e1-8a7b-a9b3c5e06a91",
   "metadata": {},
   "outputs": [],
   "source": [
    "mineral_inventory_json = {\"MineralInventory\":[]}"
   ]
  },
  {
   "cell_type": "code",
   "execution_count": 75,
   "id": "2b76b01e-e325-4102-a107-cce75e77125b",
   "metadata": {
    "scrolled": true,
    "tags": []
   },
   "outputs": [
    {
     "name": "stdout",
     "output_type": "stream",
     "text": [
      "Extracting category: INFERRED\n",
      "Creating the thread\n",
      "Current run id = run_APAhIGbcLch4ufpwkEvxkhq7 thread_id = thread_thmZ5GjNw2M4jGE5qF5KpWV3\n",
      "Retrieving the response\n",
      "\n",
      "Checking run status: in_progress\n",
      "Run is completed. Printing the entire thread now in sequential order \n",
      "\n",
      "Most run run_APAhIGbcLch4ufpwkEvxkhq7 response: Based on the information extracted from the Nash Creek and Superjack Mineral Resource Estimates, the following dictionary captures the relevant zinc resource estimate data where the category is INFERRED:\n",
      "\n",
      "```json\n",
      "{\n",
      "  \"extractions\":[\n",
      "    {\n",
      "      \"category\": \"INFERRED\",\n",
      "      \"zone\": \"Hickey\",\n",
      "      \"zinc Cut-Off\": \"1.50\",\n",
      "      \"zinc Cut-Off Unit\": \"ZnEq%\",\n",
      "      \"zinc Tonnage\": \"4343\",\n",
      "      \"zinc Tonnage Unit\": \"thousand tonnes\",\n",
      "      \"zinc Grade Percent\": \"2.69\",\n",
      "      \"Contained_metal\": \"116.83\",  // Calculated as 4343 * 2.69 / 100\n",
      "      \"Table\": \"TABLE 1.1 NASH CREEK AND SUPERJACK MINERAL RESOURCE ESTIMATES (1-6)\"\n",
      "    },\n",
      "    {\n",
      "      \"category\": \"INFERRED\",\n",
      "      \"zone\": \"Hayes\",\n",
      "      \"zinc Cut-Off\": \"1.50\",\n",
      "      \"zinc Cut-Off Unit\": \"ZnEq%\",\n",
      "      \"zinc Tonnage\": \"1586\",\n",
      "      \"zinc Tonnage Unit\": \"thousand tonnes\",\n",
      "      \"zinc Grade Percent\": \"2.63\",\n",
      "      \"Contained_metal\": \"41.71\",  // Calculated as 1586 * 2.63 / 100\n",
      "      \"Table\": \"TABLE 1.1 NASH CREEK AND SUPERJACK MINERAL RESOURCE ESTIMATES (1-6)\"\n",
      "    },\n",
      "    {\n",
      "      \"category\": \"INFERRED\",\n",
      "      \"zone\": \"Superjack\",\n",
      "      \"zinc Cut-Off\": \"2.00\",\n",
      "      \"zinc Cut-Off Unit\": \"ZnEq%\",\n",
      "      \"zinc Tonnage\": \"3211\",\n",
      "      \"zinc Tonnage Unit\": \"thousand tonnes\",\n",
      "      \"zinc Grade Percent\": \"3.01\",\n",
      "      \"Contained_metal\": \"96.65\",  // Calculated as 3211 * 3.01 / 100\n",
      "      \"Table\": \"TABLE 1.1 NASH CREEK AND SUPERJACK MINERAL RESOURCE ESTIMATES (1-6)\"\n",
      "    }\n",
      "  ]\n",
      "}\n",
      "```\n",
      "Each row includes the zone, the zinc equivalent cut-off, the tonnage and grade of zinc, and the contained metal after calculation. All units have been harmonized according to the request【19†source】. \n",
      "Extracted: {'extractions': [{'category': 'INFERRED', 'zone': 'Hickey', 'zinc Cut-Off': '1.50', 'zinc Cut-Off Unit': 'ZnEq%', 'zinc Tonnage': '4343', 'zinc Tonnage Unit': 'thousand tonnes', 'zinc Grade Percent': '2.69', 'Contained_metal': '116.83', 'Table': 'TABLE 1.1 NASH CREEK AND SUPERJACK MINERAL RESOURCE ESTIMATES (1-6)'}, {'category': 'INFERRED', 'zone': 'Hayes', 'zinc Cut-Off': '1.50', 'zinc Cut-Off Unit': 'ZnEq%', 'zinc Tonnage': '1586', 'zinc Tonnage Unit': 'thousand tonnes', 'zinc Grade Percent': '2.63', 'Contained_metal': '41.71', 'Table': 'TABLE 1.1 NASH CREEK AND SUPERJACK MINERAL RESOURCE ESTIMATES (1-6)'}, {'category': 'INFERRED', 'zone': 'Superjack', 'zinc Cut-Off': '2.00', 'zinc Cut-Off Unit': 'ZnEq%', 'zinc Tonnage': '3211', 'zinc Tonnage Unit': 'thousand tonnes', 'zinc Grade Percent': '3.01', 'Contained_metal': '96.65', 'Table': 'TABLE 1.1 NASH CREEK AND SUPERJACK MINERAL RESOURCE ESTIMATES (1-6)'}]}\n"
     ]
    }
   ],
   "source": [
    "cat = \"INFERRED\"\n",
    "if cat.lower() in cat_list:\n",
    "    print(f\"Extracting category: {cat}\")\n",
    "    extract_inferred = extract_by_category(cat, relevant_tables, thread_id, assistant_id)\n",
    "    print(f'Extracted: {extract_inferred}')"
   ]
  },
  {
   "cell_type": "code",
   "execution_count": 102,
   "id": "0248b8f3-0889-4b8b-a373-99d452b98762",
   "metadata": {},
   "outputs": [],
   "source": [
    "if extract_inferred is not None or cat.lower() in cat_list:\n",
    "    cleaned_inferred = create_mineral_inventory(extract_inferred,inventory_format, relevant_tables, correct_units)\n",
    "    mineral_inventory_json[\"MineralInventory\"] += cleaned_inferred['MineralInventory']"
   ]
  },
  {
   "cell_type": "code",
   "execution_count": 82,
   "id": "2881f626-ca82-4145-837e-2f07214ac7e5",
   "metadata": {
    "scrolled": true,
    "tags": []
   },
   "outputs": [
    {
     "name": "stdout",
     "output_type": "stream",
     "text": [
      "Extracting category: INDICATED\n",
      "Creating the thread\n",
      "Current run id = run_p4W0gnYro76swfl6pkUHjLKj thread_id = thread_thmZ5GjNw2M4jGE5qF5KpWV3\n",
      "Retrieving the response\n",
      "\n",
      "Checking run status: in_progress\n",
      "Run is completed. Printing the entire thread now in sequential order \n",
      "\n",
      "Most run run_p4W0gnYro76swfl6pkUHjLKj response: I apologize for the confusion earlier. It seems there was a misunderstanding in the initial instructions. Following your adjusted instructions, here is the correctly formatted information for the rows that relate to the category INDICATED from Table 1.1:\n",
      "\n",
      "```json\n",
      "{\n",
      "  \"extractions\":[\n",
      "    {\n",
      "      \"category\": \"INDICATED\",\n",
      "      \"zone\": \"Hickey\",\n",
      "      \"zinc Cut-Off\": \"1.50\",\n",
      "      \"zinc Cut-Off Unit\": \"%\",\n",
      "      \"zinc Tonnage\": \"6601\",\n",
      "      \"zinc Tonnage Unit\": \"k\",\n",
      "      \"zinc Grade Percent\": \"2.37\",\n",
      "      \"Contained_metal\": \"\",\n",
      "      \"Table\": \"TABLE 1.1 NASH CREEK AND SUPERJACK MINERAL RESOURCE ESTIMATES (1-6)\"\n",
      "    },\n",
      "    {\n",
      "      \"category\": \"INDICATED\",\n",
      "      \"zone\": \"Hayes\",\n",
      "      \"zinc Cut-Off\": \"1.50\",\n",
      "      \"zinc Cut-Off Unit\": \"%\",\n",
      "      \"zinc Tonnage\": \"6991\",\n",
      "      \"zinc Tonnage Unit\": \"k\",\n",
      "      \"zinc Grade Percent\": \"2.96\",\n",
      "      \"Contained_metal\": \"\",\n",
      "      \"Table\": \"TABLE 1.1 NASH CREEK AND SUPERJACK MINERAL RESOURCE ESTIMATES (1-6)\"\n",
      "    }\n",
      "  ]\n",
      "}\n",
      "``` \n",
      "Extracted: {'extractions': [{'category': 'INDICATED', 'zone': 'Hickey', 'zinc Cut-Off': '1.50', 'zinc Cut-Off Unit': '%', 'zinc Tonnage': '6601', 'zinc Tonnage Unit': 'k', 'zinc Grade Percent': '2.37', 'Contained_metal': '', 'Table': 'TABLE 1.1 NASH CREEK AND SUPERJACK MINERAL RESOURCE ESTIMATES (1-6)'}, {'category': 'INDICATED', 'zone': 'Hayes', 'zinc Cut-Off': '1.50', 'zinc Cut-Off Unit': '%', 'zinc Tonnage': '6991', 'zinc Tonnage Unit': 'k', 'zinc Grade Percent': '2.96', 'Contained_metal': '', 'Table': 'TABLE 1.1 NASH CREEK AND SUPERJACK MINERAL RESOURCE ESTIMATES (1-6)'}]}\n"
     ]
    }
   ],
   "source": [
    "cat = \"INDICATED\"\n",
    "if cat.lower() in cat_list:\n",
    "    print(f\"Extracting category: {cat}\")\n",
    "    extract_indicated = extract_by_category(cat, relevant_tables, thread_id, assistant_id)\n",
    "    \n",
    "    print(f'Extracted: {extract_indicated}')"
   ]
  },
  {
   "cell_type": "code",
   "execution_count": 98,
   "id": "abe9f976-5dd1-4537-aa48-89e69221a404",
   "metadata": {},
   "outputs": [
    {
     "name": "stderr",
     "output_type": "stream",
     "text": [
      "WARNING:root:Applied processor reduces input query to empty string, all comparisons will have score 0. [Query: '%']\n",
      "WARNING:root:Applied processor reduces input query to empty string, all comparisons will have score 0. [Query: '%']\n"
     ]
    }
   ],
   "source": [
    "if extract_indicated is not None or cat.lower in cat_list:\n",
    "    cleaned_indicated = create_mineral_inventory(extract_indicated,inventory_format, relevant_tables, correct_units)\n",
    "    mineral_inventory_json[\"MineralInventory\"] += cleaned_indicated['MineralInventory']\n"
   ]
  },
  {
   "cell_type": "code",
   "execution_count": 115,
   "id": "4f398125-928a-4889-bc7b-505f763521e3",
   "metadata": {},
   "outputs": [
    {
     "name": "stdout",
     "output_type": "stream",
     "text": [
      "{'MineralInventory': [{'id': '1', 'commodity': 'https://minmod.isi.edu/resource/Q589', 'category': ['https://minmod.isi.edu/resource/indicated'], 'ore': {'ore_unit': 'https://minmod.isi.edu/resource/Q200', 'ore_value': '6601000.0'}, 'grade': {'grade_unit': 'https://minmod.isi.edu/resource/Q201', 'grade_value': '2.37'}, 'cutoff_grade': {'grade_unit': '', 'grade_value': '1.50'}, 'contained_metal': '156443700.0', 'reference': {'id': '1', 'document': {'title': 'Technical Report and Preliminary Economic Assessment on the Nash Creek and Superjack Project', 'doi': 'https://w3id.org/usgs/z/4530692/V2BAGHTT', 'authors': ['Eugene Puritch', 'D. Grant Feasby', 'Alfred S. Hayden', 'Ken Kuchling', 'Kirk Rodgers', 'James Barr', 'Cameron Bartsch'], 'year': '2018', 'month': '6', 'description': 'This report provides a technical review and preliminary economic assessment for the Nash Creek and Superjack Zinc-Lead-Silver Project in New Brunswick for Callinex Mines Inc.'}, 'page_info': [{'page': '14', 'bounding_box': {'x_min': '', 'x_max': '', 'y_min': '', 'y_max': ''}}]}, 'date': '2018-6', 'zone': 'hickey'}, {'id': '2', 'commodity': 'https://minmod.isi.edu/resource/Q589', 'category': ['https://minmod.isi.edu/resource/indicated'], 'ore': {'ore_unit': 'https://minmod.isi.edu/resource/Q200', 'ore_value': '6991000.0'}, 'grade': {'grade_unit': 'https://minmod.isi.edu/resource/Q201', 'grade_value': '2.96'}, 'cutoff_grade': {'grade_unit': '', 'grade_value': '1.50'}, 'contained_metal': '206933600.0', 'reference': {'id': '1', 'document': {'title': 'Technical Report and Preliminary Economic Assessment on the Nash Creek and Superjack Project', 'doi': 'https://w3id.org/usgs/z/4530692/V2BAGHTT', 'authors': ['Eugene Puritch', 'D. Grant Feasby', 'Alfred S. Hayden', 'Ken Kuchling', 'Kirk Rodgers', 'James Barr', 'Cameron Bartsch'], 'year': '2018', 'month': '6', 'description': 'This report provides a technical review and preliminary economic assessment for the Nash Creek and Superjack Zinc-Lead-Silver Project in New Brunswick for Callinex Mines Inc.'}, 'page_info': [{'page': '14', 'bounding_box': {'x_min': '', 'x_max': '', 'y_min': '', 'y_max': ''}}]}, 'date': '2018-6', 'zone': 'hayes'}]}\n"
     ]
    }
   ],
   "source": [
    "print(cleaned_indicated)"
   ]
  },
  {
   "cell_type": "code",
   "execution_count": 105,
   "id": "fddf1fcb-8157-483f-bb68-40b1c8f951df",
   "metadata": {
    "scrolled": true,
    "tags": []
   },
   "outputs": [],
   "source": [
    "cat = \"MEASURED\"\n",
    "extract_measured = None\n",
    "if cat.lower() in cat_list:\n",
    "    print(f\"Extracting category: {cat}\")\n",
    "    extract_measured = extract_by_category(cat, relevant_tables, thread_id, assistant_id)\n",
    "\n",
    "    print(f'Extracted: {extract_measured}')"
   ]
  },
  {
   "cell_type": "code",
   "execution_count": 106,
   "id": "37c9ae7d-02f2-48d6-af32-cfc380ed7e9d",
   "metadata": {},
   "outputs": [],
   "source": [
    "if extract_measured is not None or cat.lower() in cat_list:\n",
    "    cleaned_measured = create_mineral_inventory(extract_measured,inventory_format, relevant_tables, correct_units)\n",
    "    mineral_inventory_json[\"MineralInventory\"] += cleaned_measured['MineralInventory']\n"
   ]
  },
  {
   "cell_type": "code",
   "execution_count": 107,
   "id": "f8ee0adb-3a45-42c3-9c69-c85815e87e00",
   "metadata": {},
   "outputs": [],
   "source": [
    "cat = \"PROBABLE\"\n",
    "extract_probable = None\n",
    "if cat.lower() in cat_list:\n",
    "    print(f\"Extracting category: {cat}\")\n",
    "    extract_probable = extract_by_category(cat, relevant_tables, thread_id, assistant_id)\n",
    "\n"
   ]
  },
  {
   "cell_type": "code",
   "execution_count": 108,
   "id": "ffc47131-0be3-4cdb-b439-acdb34309547",
   "metadata": {},
   "outputs": [],
   "source": [
    "if extract_probable is not None or cat.lower() in cat_list:\n",
    "    cleaned_probable = create_mineral_inventory(extract_probable,inventory_format, relevant_tables, correct_units)\n",
    "    mineral_inventory_json[\"MineralInventory\"] += cleaned_probable['MineralInventory']\n"
   ]
  },
  {
   "cell_type": "code",
   "execution_count": 109,
   "id": "b85e2709-4f76-414a-b516-b0fd08ac6a60",
   "metadata": {},
   "outputs": [],
   "source": [
    "cat = \"PROVEN\"\n",
    "extract_proven = None\n",
    "if cat.lower() in cat_list:\n",
    "    print(f\"Extracting category: {cat}\")\n",
    "    extract_proven = extract_by_category(cat, relevant_tables, thread_id, assistant_id)\n",
    "    print(f'Extracted: {extract_proven}')"
   ]
  },
  {
   "cell_type": "code",
   "execution_count": 110,
   "id": "b595ac2e-1ac0-4ee6-b7cf-27c21f5582de",
   "metadata": {},
   "outputs": [],
   "source": [
    "if extract_proven is not None or cat.lower() in cat_list:\n",
    "    cleaned_proven = create_mineral_inventory(extract_proven,inventory_format, relevant_tables, correct_units)\n",
    "    mineral_inventory_json[\"MineralInventory\"] += cleaned_proven['MineralInventory']\n"
   ]
  },
  {
   "cell_type": "markdown",
   "id": "28e7dea2-5072-4862-86ed-9ee0b480ff9f",
   "metadata": {
    "tags": []
   },
   "source": [
    "## Combine json structures into one and write "
   ]
  },
  {
   "cell_type": "code",
   "execution_count": 112,
   "id": "1f424afe-47c8-41d9-bf48-d9e798e6cfd7",
   "metadata": {
    "scrolled": true,
    "tags": []
   },
   "outputs": [
    {
     "name": "stdout",
     "output_type": "stream",
     "text": [
      "{'MineralSite': [{'source_id': 'https://w3id.org/usgs/z/4530692/V2BAGHTT', 'record_id': '1', 'name': 'Technical Report and Preliminary Economic Assessment on the Nash Creek and Superjack Project', 'location_info': {'location': 'MULTIPOINT(-66.1 47.883333,-66.083333 47.383333)', 'crs': 'WGS84', 'country': 'Canada', 'state_or_province': 'New Brunswick'}, 'MineralInventory': [{'id': '1', 'commodity': 'https://minmod.isi.edu/resource/Q589', 'category': ['https://minmod.isi.edu/resource/indicated'], 'ore': {'ore_unit': 'https://minmod.isi.edu/resource/Q200', 'ore_value': '6601000.0'}, 'grade': {'grade_unit': 'https://minmod.isi.edu/resource/Q201', 'grade_value': '2.37'}, 'cutoff_grade': {'grade_unit': '', 'grade_value': '1.50'}, 'contained_metal': '156443700.0', 'reference': {'id': '1', 'document': {'title': 'Technical Report and Preliminary Economic Assessment on the Nash Creek and Superjack Project', 'doi': 'https://w3id.org/usgs/z/4530692/V2BAGHTT', 'authors': ['Eugene Puritch', 'D. Grant Feasby', 'Alfred S. Hayden', 'Ken Kuchling', 'Kirk Rodgers', 'James Barr', 'Cameron Bartsch'], 'year': '2018', 'month': '6', 'description': 'This report provides a technical review and preliminary economic assessment for the Nash Creek and Superjack Zinc-Lead-Silver Project in New Brunswick for Callinex Mines Inc.'}, 'page_info': [{'page': '14', 'bounding_box': {'x_min': '', 'x_max': '', 'y_min': '', 'y_max': ''}}]}, 'date': '2018-6', 'zone': 'hickey'}, {'id': '2', 'commodity': 'https://minmod.isi.edu/resource/Q589', 'category': ['https://minmod.isi.edu/resource/indicated'], 'ore': {'ore_unit': 'https://minmod.isi.edu/resource/Q200', 'ore_value': '6991000.0'}, 'grade': {'grade_unit': 'https://minmod.isi.edu/resource/Q201', 'grade_value': '2.96'}, 'cutoff_grade': {'grade_unit': '', 'grade_value': '1.50'}, 'contained_metal': '206933600.0', 'reference': {'id': '1', 'document': {'title': 'Technical Report and Preliminary Economic Assessment on the Nash Creek and Superjack Project', 'doi': 'https://w3id.org/usgs/z/4530692/V2BAGHTT', 'authors': ['Eugene Puritch', 'D. Grant Feasby', 'Alfred S. Hayden', 'Ken Kuchling', 'Kirk Rodgers', 'James Barr', 'Cameron Bartsch'], 'year': '2018', 'month': '6', 'description': 'This report provides a technical review and preliminary economic assessment for the Nash Creek and Superjack Zinc-Lead-Silver Project in New Brunswick for Callinex Mines Inc.'}, 'page_info': [{'page': '14', 'bounding_box': {'x_min': '', 'x_max': '', 'y_min': '', 'y_max': ''}}]}, 'date': '2018-6', 'zone': 'hayes'}, {'id': '3', 'commodity': 'https://minmod.isi.edu/resource/Q589', 'category': ['https://minmod.isi.edu/resource/inferred'], 'ore': {'ore_unit': 'https://minmod.isi.edu/resource/Q200', 'ore_value': '4343000.0'}, 'grade': {'grade_unit': 'https://minmod.isi.edu/resource/Q201', 'grade_value': '2.69'}, 'cutoff_grade': {'grade_unit': '', 'grade_value': '1.50'}, 'contained_metal': '116830.0', 'reference': {'id': '1', 'document': {'title': 'Technical Report and Preliminary Economic Assessment on the Nash Creek and Superjack Project', 'doi': 'https://w3id.org/usgs/z/4530692/V2BAGHTT', 'authors': ['Eugene Puritch', 'D. Grant Feasby', 'Alfred S. Hayden', 'Ken Kuchling', 'Kirk Rodgers', 'James Barr', 'Cameron Bartsch'], 'year': '2018', 'month': '6', 'description': 'This report provides a technical review and preliminary economic assessment for the Nash Creek and Superjack Zinc-Lead-Silver Project in New Brunswick for Callinex Mines Inc.'}, 'page_info': [{'page': '14', 'bounding_box': {'x_min': '', 'x_max': '', 'y_min': '', 'y_max': ''}}]}, 'date': '2018-6', 'zone': 'hickey'}, {'id': '4', 'commodity': 'https://minmod.isi.edu/resource/Q589', 'category': ['https://minmod.isi.edu/resource/inferred'], 'ore': {'ore_unit': 'https://minmod.isi.edu/resource/Q200', 'ore_value': '1586000.0'}, 'grade': {'grade_unit': 'https://minmod.isi.edu/resource/Q201', 'grade_value': '2.63'}, 'cutoff_grade': {'grade_unit': '', 'grade_value': '1.50'}, 'contained_metal': '41710.0', 'reference': {'id': '1', 'document': {'title': 'Technical Report and Preliminary Economic Assessment on the Nash Creek and Superjack Project', 'doi': 'https://w3id.org/usgs/z/4530692/V2BAGHTT', 'authors': ['Eugene Puritch', 'D. Grant Feasby', 'Alfred S. Hayden', 'Ken Kuchling', 'Kirk Rodgers', 'James Barr', 'Cameron Bartsch'], 'year': '2018', 'month': '6', 'description': 'This report provides a technical review and preliminary economic assessment for the Nash Creek and Superjack Zinc-Lead-Silver Project in New Brunswick for Callinex Mines Inc.'}, 'page_info': [{'page': '14', 'bounding_box': {'x_min': '', 'x_max': '', 'y_min': '', 'y_max': ''}}]}, 'date': '2018-6', 'zone': 'hayes'}, {'id': '5', 'commodity': 'https://minmod.isi.edu/resource/Q589', 'category': ['https://minmod.isi.edu/resource/inferred'], 'ore': {'ore_unit': 'https://minmod.isi.edu/resource/Q200', 'ore_value': '3211000.0'}, 'grade': {'grade_unit': 'https://minmod.isi.edu/resource/Q201', 'grade_value': '3.01'}, 'cutoff_grade': {'grade_unit': '', 'grade_value': '2.00'}, 'contained_metal': '96650.0', 'reference': {'id': '1', 'document': {'title': 'Technical Report and Preliminary Economic Assessment on the Nash Creek and Superjack Project', 'doi': 'https://w3id.org/usgs/z/4530692/V2BAGHTT', 'authors': ['Eugene Puritch', 'D. Grant Feasby', 'Alfred S. Hayden', 'Ken Kuchling', 'Kirk Rodgers', 'James Barr', 'Cameron Bartsch'], 'year': '2018', 'month': '6', 'description': 'This report provides a technical review and preliminary economic assessment for the Nash Creek and Superjack Zinc-Lead-Silver Project in New Brunswick for Callinex Mines Inc.'}, 'page_info': [{'page': '14', 'bounding_box': {'x_min': '', 'x_max': '', 'y_min': '', 'y_max': ''}}]}, 'date': '2018-6', 'zone': 'superjack'}], 'deposit_type': [{'id': 'https://minmod.isi.edu/resource/Q413'}, {'id': 'https://minmod.isi.edu/resource/Q411'}, {'id': 'https://minmod.isi.edu/resource/Q412'}]}]}\n"
     ]
    }
   ],
   "source": [
    "mineral_site_json[\"MineralSite\"][0]['MineralInventory'] = mineral_inventory_json['MineralInventory']\n",
    "mineral_site_json[\"MineralSite\"][0]['deposit_type'] = deposit_types_json['deposit_type']\n",
    "print(mineral_site_json)\n",
    "current_datetime_str = datetime.now().strftime(\"%Y%m%d_%H%M%S\")"
   ]
  },
  {
   "cell_type": "code",
   "execution_count": 113,
   "id": "9cb5ee31-c577-4945-88ba-63505ee8e867",
   "metadata": {},
   "outputs": [
    {
     "name": "stdout",
     "output_type": "stream",
     "text": [
      "Combined data written to ./extracted/Nash_Creek_and_Superjack_Zn_Pb_Ag_6-2018_PEA_summary_20240130_135504.json\n"
     ]
    }
   ],
   "source": [
    "# Specify the path to the output JSON file\n",
    "new_name = file_name[:-4].replace(\" \", \"_\")\n",
    "\n",
    "output_file_path = f'./extracted/{new_name}_summary_{current_datetime_str}.json'\n",
    "\n",
    "def convert_int_or_float(obj):\n",
    "    if isinstance(obj, dict):\n",
    "        return {key: convert_int_or_float(value) for key, value in obj.items()}\n",
    "    elif isinstance(obj, list):\n",
    "        return [convert_int_or_float(item) for item in obj]\n",
    "    elif isinstance(obj, (int, float)):\n",
    "        return obj\n",
    "    elif isinstance(obj, str) and obj.isdigit():\n",
    "        return int(obj)\n",
    "    elif isinstance(obj, str) and obj.replace('.', '', 1).isdigit():\n",
    "        return float(obj)\n",
    "    return obj\n",
    "\n",
    "# Writing to a file using json.dump with custom serialization function\n",
    "with open(output_file_path, \"w\") as json_file:\n",
    "    json.dump(convert_int_or_float(mineral_site_json), json_file, indent=2)\n",
    "    \n",
    "\n",
    "print(f\"Combined data written to {output_file_path}\")"
   ]
  },
  {
   "cell_type": "markdown",
   "id": "3749c3aa-2125-48a6-abc8-de01893ea9ca",
   "metadata": {},
   "source": [
    "## Deletion\n",
    "At the end should work on removing the existance of the assistant to not have any outstanding files or assistants which could cause more charges."
   ]
  },
  {
   "cell_type": "code",
   "execution_count": 117,
   "id": "7b959428-703f-4006-bfe1-429a8fe43907",
   "metadata": {},
   "outputs": [
    {
     "name": "stdout",
     "output_type": "stream",
     "text": [
      "Deletion FAILED\n"
     ]
    }
   ],
   "source": [
    "resp_code = delete_assistant(assistant_id)\n",
    "\n",
    "if resp_code == 200:\n",
    "    print(f\"Deleted assistant {assistant_id}\")\n",
    "else:\n",
    "    print(f\"Deletion FAILED\")\n",
    "    "
   ]
  },
  {
   "cell_type": "markdown",
   "id": "01fd66af-f6b0-4457-bc1e-c129e23b32b3",
   "metadata": {},
   "source": [
    "# Notes\n",
    "1. Should try function calling"
   ]
  },
  {
   "cell_type": "code",
   "execution_count": null,
   "id": "4f745d56-5176-4a10-ab19-6ddc44e7f8fc",
   "metadata": {},
   "outputs": [],
   "source": []
  }
 ],
 "metadata": {
  "kernelspec": {
   "display_name": "Python 3 (ipykernel)",
   "language": "python",
   "name": "python3"
  },
  "language_info": {
   "codemirror_mode": {
    "name": "ipython",
    "version": 3
   },
   "file_extension": ".py",
   "mimetype": "text/x-python",
   "name": "python",
   "nbconvert_exporter": "python",
   "pygments_lexer": "ipython3",
   "version": "3.9.13"
  }
 },
 "nbformat": 4,
 "nbformat_minor": 5
}
