{
 "cells": [
  {
   "cell_type": "code",
   "execution_count": 20,
   "id": "3bfa2022-4e24-4a5e-b353-147a2dd95be6",
   "metadata": {},
   "outputs": [],
   "source": [
    "import pandas as pd\n",
    "import json\n",
    "import re\n",
    "import csv\n",
    "import os\n",
    "import copy\n",
    "from datetime import datetime\n",
    "import numpy as np\n",
    "from reportlab.lib import colors\n",
    "from reportlab.lib.pagesizes import letter\n",
    "from reportlab.platypus import SimpleDocTemplate, Table, TableStyle, Spacer, Paragraph\n",
    "from reportlab.lib.styles import getSampleStyleSheet, ParagraphStyle"
   ]
  },
  {
   "cell_type": "code",
   "execution_count": 21,
   "id": "6a30973e-180a-41e7-b643-2bd8de0694ca",
   "metadata": {},
   "outputs": [],
   "source": [
    "def read_csv_to_dict(file_path):\n",
    "    data_dict_list = []\n",
    "    \n",
    "    with open(file_path, mode='r') as csv_file:\n",
    "        csv_reader = csv.DictReader(csv_file)\n",
    "        \n",
    "        for row in csv_reader:\n",
    "            data_dict_list.append(dict(row))\n",
    "    \n",
    "    return data_dict_list"
   ]
  },
  {
   "cell_type": "code",
   "execution_count": 22,
   "id": "97a0ae42-8607-46ae-b6df-05c866ceefe5",
   "metadata": {},
   "outputs": [],
   "source": [
    "def select_keys(d, keys):\n",
    "    selected = {}\n",
    "    for key in keys:\n",
    "        value = d\n",
    "        for subkey in key.split('.'):\n",
    "            if isinstance(value, dict) and subkey in value:\n",
    "                value = value[subkey]\n",
    "            else:\n",
    "                value = None\n",
    "                break\n",
    "        selected[key] = value\n",
    "    return selected"
   ]
  },
  {
   "cell_type": "code",
   "execution_count": 23,
   "id": "d86e6b05-b7bf-47c7-9c1a-2e364af8a62c",
   "metadata": {},
   "outputs": [],
   "source": [
    " def get_deposit_types(json_data):   \n",
    "    minmod_deposit_types = read_csv_to_dict(\"./codes/minmod_deposit_types.csv\")\n",
    "    deposit_id = {}\n",
    "    for key in minmod_deposit_types:\n",
    "        deposit_id[key['Minmod ID']] = key['Deposit type']\n",
    "\n",
    "    data = []\n",
    "    for item in json_data['deposit_type']:\n",
    "        row = {\n",
    "            \"deposit type\": deposit_id[item.split('/')[-1]],\n",
    "        }\n",
    "        data.append(row)\n",
    "\n",
    "    # Creating DataFrame\n",
    "    deposit_types = pd.DataFrame(data)\n",
    "    return deposit_types"
   ]
  },
  {
   "cell_type": "code",
   "execution_count": 24,
   "id": "abd32408-b969-49b0-9b3f-efe7f0986786",
   "metadata": {},
   "outputs": [],
   "source": [
    "def get_document_ref(json_data):\n",
    "    document_ref = json_data['MineralInventory'][0]['reference']['document']\n",
    "    document_df = pd.DataFrame(document_ref)\n",
    "    return document_df"
   ]
  },
  {
   "cell_type": "code",
   "execution_count": 25,
   "id": "e7febd9d-839f-4a07-bd67-961cb1d28ff5",
   "metadata": {},
   "outputs": [],
   "source": [
    "def get_mineral_site(json_data):\n",
    "    selected_keys = [\"source_id\", \"name\", \"location_info.location\",\"location_info.country\", \n",
    "                     \"location_info.crs\", \"location_info.state_or_province\"]\n",
    "\n",
    "    mineral_site = pd.DataFrame(select_keys(json_data, selected_keys), index=[0])\n",
    "    return mineral_site"
   ]
  },
  {
   "cell_type": "code",
   "execution_count": 26,
   "id": "387bca7c-8509-4826-9cb5-40762a7397b3",
   "metadata": {},
   "outputs": [],
   "source": [
    "def get_mineral_inventory(json_data):\n",
    "    minmod_commodities = read_csv_to_dict(\"./codes/minmod_commodities.csv\")\n",
    "    commodities = {}\n",
    "    for key in minmod_commodities:\n",
    "        commodities[key['minmod_id']] = key['CommodityinGeoKb']\n",
    "\n",
    "    minmod_units = read_csv_to_dict(\"./codes/minmod_units.csv\")\n",
    "    correct_units = {}\n",
    "    for key in minmod_units:\n",
    "        correct_units[key['minmod_id']] =  key['unit name']\n",
    "\n",
    "    # Extracting required fields with cutoff_unit and cutoff_value\n",
    "    data = []\n",
    "    for item in json_data['MineralInventory']:\n",
    "        row = {\n",
    "            \"zone\": item.get(\"zone\"),\n",
    "            \"page_number\": item[\"reference\"][\"page_info\"][0][\"page\"],\n",
    "            \"commodity\": commodities[item.get(\"commodity\").split('/')[-1]],\n",
    "            \"category\": item[\"category\"][0].split('/')[-1],\n",
    "            \"ore_unit\": correct_units[item[\"ore\"][\"ore_unit\"].split('/')[-1]],\n",
    "            \"ore_value\": item[\"ore\"][\"ore_value\"],\n",
    "            \"grade_unit\": correct_units[item[\"grade\"][\"grade_unit\"].split('/')[-1]],\n",
    "            \"grade_value\": item[\"grade\"][\"grade_value\"],\n",
    "            \"cutoff_unit\": correct_units[item[\"cutoff_grade\"].get(\"grade_unit\").split('/')[-1]] if \"cutoff_grade\" in item else None,\n",
    "            \"cutoff_value\": item[\"cutoff_grade\"].get(\"grade_value\") if \"cutoff_grade\" in item else None\n",
    "        }\n",
    "        data.append(row)\n",
    "\n",
    "    # Creating DataFrame\n",
    "    mineral_inventory = pd.DataFrame(data)\n",
    "    return mineral_inventory"
   ]
  },
  {
   "cell_type": "code",
   "execution_count": 28,
   "id": "8678bde4-2f65-4101-9b47-1cbf7ba72d1f",
   "metadata": {},
   "outputs": [],
   "source": [
    "from reportlab.lib import colors\n",
    "from reportlab.lib.pagesizes import letter\n",
    "from reportlab.platypus import SimpleDocTemplate, Table, TableStyle, Spacer, Paragraph\n",
    "from reportlab.lib.styles import getSampleStyleSheet, ParagraphStyle\n",
    "\n",
    "def create_pdf_with_tables(dataframes, output_file):\n",
    "    doc = SimpleDocTemplate(output_file, pagesize=letter)\n",
    "    elements = []\n",
    "    styles = getSampleStyleSheet()\n",
    "\n",
    "    # Define a style for wrapped text inside table cells\n",
    "    cell_style = styles['Normal']\n",
    "    cell_style.wordWrap = 'CJK'  # Use 'CJK' word wrapping which wraps on any character\n",
    "\n",
    "    for name, dataframe in dataframes.items():\n",
    "        # Add title above each table\n",
    "        title_style = ParagraphStyle('TitleStyle', parent=styles['Normal'], alignment=0, fontName='Helvetica-Bold')  # Left alignment and bold font\n",
    "        title = Paragraph(name, title_style)\n",
    "        elements.append(title)\n",
    "        \n",
    "        # Convert DataFrame to list of lists\n",
    "        # Ensure each cell in the dataframe is wrapped with a Paragraph object\n",
    "        table_data = [[Paragraph(str(cell), cell_style) for cell in dataframe.columns]]  # Header row\n",
    "        for row in dataframe.values.tolist():\n",
    "            table_data.append([Paragraph(str(cell), cell_style) for cell in row])  # Data rows\n",
    "\n",
    "        # Calculate the width of the table to fit within the page width\n",
    "        table_width = doc.width * 0.8  # Set the width to 80% of the page width\n",
    "        \n",
    "        # Create table with column width calculated to fit the page\n",
    "        table = Table(table_data, colWidths=[table_width / len(dataframe.columns)] * len(dataframe.columns))\n",
    "\n",
    "        # Add style to the table\n",
    "        style = TableStyle([\n",
    "            # ... (keep existing style definitions)\n",
    "        ])\n",
    "        \n",
    "        table.setStyle(style)\n",
    "        elements.append(table)\n",
    "\n",
    "        # Add space between tables\n",
    "        elements.append(Spacer(1, 24))\n",
    "\n",
    "    # Build PDF with all tables\n",
    "    doc.build(elements)"
   ]
  },
  {
   "cell_type": "code",
   "execution_count": 29,
   "id": "423f6e19-30d5-4e86-8abf-6c389ad8a912",
   "metadata": {},
   "outputs": [
    {
     "name": "stdout",
     "output_type": "stream",
     "text": [
      "['Penasquito_Zn_Pb_Ag_Au_3-2016_OM_summary_20240205_105558.json', '.ipynb_checkpoints', 'Penasquito_Au_Ag_Pb_Zn_8-2018_OM_summary_20240202_131212.json', 'Nuestra_Senora_Zn_Ag_4-2013_PEA_summary_20240201_124310.json']\n"
     ]
    }
   ],
   "source": [
    "folder_path = './extracted/'\n",
    "\n",
    "files = os.listdir(folder_path)\n",
    "print(files)"
   ]
  },
  {
   "cell_type": "code",
   "execution_count": 30,
   "id": "36737023-c869-4fb8-9990-a5da87e49a23",
   "metadata": {},
   "outputs": [],
   "source": [
    "file_path = folder_path + files[0]\n",
    "\n",
    "with open(file_path, 'r') as f:\n",
    "    # Load the JSON data into a Python dictionary\n",
    "    data = json.load(f)\n",
    "\n",
    "# Now 'data' contains the contents of the JSON file\n",
    "json_data = data['MineralSite'][0]\n",
    "document_df = get_document_ref(json_data)\n",
    "mineral_site = get_mineral_site(json_data)\n",
    "mineral_inventory = get_mineral_inventory(json_data)\n",
    "deposit_types = get_deposit_types(json_data)\n"
   ]
  },
  {
   "cell_type": "code",
   "execution_count": 31,
   "id": "c8c28407-fbd9-4ebf-94df-c267a128e3d3",
   "metadata": {},
   "outputs": [],
   "source": [
    "data_dict = {'Document Reference':document_df, 'Mineral Site ':mineral_site, \n",
    "             'Mineral Inventory':mineral_inventory, 'Deposit Types': deposit_types}\n",
    "create_pdf_with_tables(data_dict, './created_pdf/tables.pdf')\n"
   ]
  },
  {
   "cell_type": "code",
   "execution_count": null,
   "id": "7aaacf24-e773-4448-9f2b-7d9b387d9514",
   "metadata": {},
   "outputs": [],
   "source": []
  }
 ],
 "metadata": {
  "kernelspec": {
   "display_name": "Python 3 (ipykernel)",
   "language": "python",
   "name": "python3"
  },
  "language_info": {
   "codemirror_mode": {
    "name": "ipython",
    "version": 3
   },
   "file_extension": ".py",
   "mimetype": "text/x-python",
   "name": "python",
   "nbconvert_exporter": "python",
   "pygments_lexer": "ipython3",
   "version": "3.9.13"
  }
 },
 "nbformat": 4,
 "nbformat_minor": 5
}
