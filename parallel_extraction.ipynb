{
 "cells": [
  {
   "cell_type": "code",
   "execution_count": 8,
   "id": "6cbd8648-3dd5-4fca-8c88-fabb3266f4f7",
   "metadata": {},
   "outputs": [
    {
     "name": "stdout",
     "output_type": "stream",
     "text": [
      "The autoreload extension is already loaded. To reload it, use:\n",
      "  %reload_ext autoreload\n"
     ]
    }
   ],
   "source": [
    "%load_ext autoreload\n",
    "\n",
    "import time\n",
    "from extraction_package import extraction_pipeline"
   ]
  },
  {
   "cell_type": "code",
   "execution_count": 9,
   "id": "0375c499-01ff-4af3-8780-8f6e9263dcf7",
   "metadata": {},
   "outputs": [],
   "source": [
    "filenames = [\"NorthMet Cu Ni PGE 10-2012.pdf\", \"Samapleu East Ni Cu 5-2019.pdf\", \"Sudbury Camp JV 12-2010.pdf\"]\n",
    "url_list = [ \"https://w3id.org/usgs/z/4530692/64679KK8\", \"https://w3id.org/usgs/z/4530692/5TU66E4A\",\"https://w3id.org/usgs/z/4530692/5MZZZXRJ\"]\n",
    "commodity = \"Nickel\"\n",
    "commodity_sign = \"Ni\"\n",
    "file_path = \"./reports/nickel/\"\n",
    "output_path = \"./extracted/\""
   ]
  },
  {
   "cell_type": "code",
   "execution_count": null,
   "id": "7a07c75d-6874-4880-80a5-7d575eddac3e",
   "metadata": {
    "scrolled": true,
    "tags": []
   },
   "outputs": [
    {
     "name": "stdout",
     "output_type": "stream",
     "text": [
      "Running the parallelization method with 3 files \n",
      "\n",
      "Working on file: NorthMet Cu Ni PGE 10-2012.pdf url: https://w3id.org/usgs/z/4530692/64679KK8 commodity of interest is Nickel \n",
      "\n",
      "Working on file: Samapleu East Ni Cu 5-2019.pdf url: https://w3id.org/usgs/z/4530692/5TU66E4A commodity of interest is Nickel \n",
      "\n",
      "Working on file: Sudbury Camp JV 12-2010.pdf url: https://w3id.org/usgs/z/4530692/5MZZZXRJ commodity of interest is Nickel \n",
      "\n",
      "Zoltero Information: file_key 64679KK8 Title: NI 43-101 Technical Report for the NorthMet Project in Minnesota, United States dated October 2012 \n",
      "\n",
      "Zoltero Information: file_key 5TU66E4A Title: NI 43-101 Technical Report for the Samapleu East Project in Ivory Coast (Cote d'Ivoire) dated May 2019 \n",
      "\n",
      "Zoltero Information: file_key 5MZZZXRJ Title: NI 43-101 Technical Report for the Sudbury Camp JV Project in North America dated 2010 \n",
      "\n",
      "Most run run_nvgXFEede8ZfE9eGG5CRgIUw response: YES \n",
      "\n",
      "Response: YES\n",
      "File was correctly uploaded \n",
      "\n",
      "Most run run_XH28mqNTtTA7MqvhGXfn5fmP response: YES \n",
      "\n",
      "Response: YES\n",
      "File was correctly uploaded \n",
      "\n",
      "Most run run_CEWXpFw8y11HEhmbmsSVBBaN response: YES \n",
      "\n",
      "Response: YES\n",
      "File was correctly uploaded \n",
      "\n",
      "Most run run_344v2LA6eRzj0q3CuZ7sOkmz response: ```json\n",
      "{\n",
      "  \"title\": \"2010 TECHNICAL REPORT ON THE SUDBURY CAMP JOINT VENTURE PROPERTIES\",\n",
      "  \"doi\": \"\",\n",
      "  \"authors\": [\"Joshua Bailey\"],\n",
      "  \"year\": 2010,\n",
      "  \"month\": 12,\n",
      "  \"volume\": \"\",\n",
      "  \"issue\": \"\",\n",
      "  \"description\": \"This technical report was prepared for Wallbridge Mining Company Limited and Lonmin Plc to summarize the results of exploration by the SCJV and to provide recommendations for further work.\"\n",
      "}\n",
      "``` \n",
      "\n",
      "./reports/nickel/Sudbury Camp JV 12-2010.pdf: Here is the reference material for the document: \n",
      " {'title': 'NI 43-101 Technical Report for the Sudbury Camp JV Project in North America dated 2010', 'doi': 'https://w3id.org/usgs/z/4530692/5MZZZXRJ', 'authors': ['Joshua Bailey'], 'year': 2010, 'month': 12, 'description': 'This technical report was prepared for Wallbridge Mining Company Limited and Lonmin Plc to summarize the results of exploration by the SCJV and to provide recommendations for further work.'} \n",
      "\n",
      "Most run run_hiWvJBmW2m4zrntNXdC8Kgy5 response: ```json\n",
      "{\n",
      "  \"title\": \"2010 Technical Report on the Sudbury Camp Joint Venture Properties\",\n",
      "  \"doi\": \"\",\n",
      "  \"authors\": [\"Joshua Bailey\"],\n",
      "  \"year\": 2010,\n",
      "  \"month\": 12,\n",
      "  \"volume\": \"\",\n",
      "  \"issue\": \"\",\n",
      "  \"description\": \"This technical report for the Sudbury Camp JV Project summarizes the exploration results and provides recommendations for further work, effective as of December 31, 2010.\"\n",
      "}\n",
      "``` \n",
      "\n",
      "./reports/nickel/Sudbury Camp JV 12-2010.pdf: Here is the reference material for the document: \n",
      " {'title': 'NI 43-101 Technical Report for the Sudbury Camp JV Project in North America dated 2010', 'doi': 'https://w3id.org/usgs/z/4530692/5MZZZXRJ', 'authors': ['Joshua Bailey'], 'year': 2010, 'month': 12, 'description': 'This technical report for the Sudbury Camp JV Project summarizes the exploration results and provides recommendations for further work, effective as of December 31, 2010.'} \n",
      "\n",
      "Most run run_Mz0IKro8s5hAZxpfM5QYqkPa response: ```json\n",
      "{\n",
      "  \"title\": \"\",\n",
      "  \"doi\": \"\",\n",
      "  \"authors\": \"[]\",\n",
      "  \"year\": \"\",\n",
      "  \"month\": \"\",\n",
      "  \"volume\": \"\",\n",
      "  \"issue\": \"\",\n",
      "  \"description\": \"\"\n",
      "}\n",
      "``` \n",
      "\n",
      "Most run run_n7fSJRGSoqYqBcZPkhRumAn8 response: The search results did not yield explicit geographic coordinates for the properties mentioned in the document. The document contains descriptions of survey lines, magnetic and electro-magnetic surveys, mapping phases, and drilling information but does not provide the latitude and longitude needed to locate the mining site on a map using geographic coordinates.\n",
      "\n",
      "Thus, as per the instructions, since the correct conversions cannot be made due to lack of specific location information, the value of the \"location\" key in the Mineral Site JSON structure should be left as an empty string. Here is the JSON structure filled with the known values:\n",
      "\n",
      "```json\n",
      "Mineral Site: {\n",
      "    \"MineralSite\":[\n",
      "        {\n",
      "            \"source_id\": \"https://w3id.org/usgs/z/4530692/5MZZZXRJ\",\n",
      "            \"record_id\": \"1\",\n",
      "            \"name\": \"NI 43-101 Technical Report for the Sudbury Camp JV Project in North America dated 2010\",\n",
      "            \"location_info\": {\n",
      "                \"location\": \"POINT()\",\n",
      "                \"crs\": \"WGS84\",\n",
      "                \"country\": \"Canada\",\n",
      "                \"state_or_province\": \"Ontario\"\n",
      "            }\n",
      "        ]\n",
      "}\n",
      "``` \n",
      "\n"
     ]
    }
   ],
   "source": [
    "%autoreload\n",
    "#multiprocessing test\n",
    "\n",
    "t = time.time()\n",
    "file_extractions = extraction_pipeline.document_parallel_extract(\n",
    "    file_path,\n",
    "    filenames,\n",
    "    url_list,\n",
    "    commodity,\n",
    "    commodity_sign,\n",
    "    output_path\n",
    "        )\n",
    "\n",
    "print(f'parallel: {time.time()-t}')"
   ]
  },
  {
   "cell_type": "code",
   "execution_count": null,
   "id": "507ef27d-5908-4719-b828-b926ef13bddf",
   "metadata": {},
   "outputs": [],
   "source": []
  }
 ],
 "metadata": {
  "kernelspec": {
   "display_name": "Python 3 (ipykernel)",
   "language": "python",
   "name": "python3"
  },
  "language_info": {
   "codemirror_mode": {
    "name": "ipython",
    "version": 3
   },
   "file_extension": ".py",
   "mimetype": "text/x-python",
   "name": "python",
   "nbconvert_exporter": "python",
   "pygments_lexer": "ipython3",
   "version": "3.9.13"
  }
 },
 "nbformat": 4,
 "nbformat_minor": 5
}
