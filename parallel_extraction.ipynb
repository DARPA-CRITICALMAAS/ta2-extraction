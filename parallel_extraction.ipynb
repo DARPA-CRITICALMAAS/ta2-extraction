{
 "cells": [
  {
   "cell_type": "code",
   "execution_count": 7,
   "id": "6cbd8648-3dd5-4fca-8c88-fabb3266f4f7",
   "metadata": {},
   "outputs": [
    {
     "name": "stdout",
     "output_type": "stream",
     "text": [
      "The autoreload extension is already loaded. To reload it, use:\n",
      "  %reload_ext autoreload\n"
     ]
    }
   ],
   "source": [
    "%load_ext autoreload\n",
    "\n",
    "import time\n",
    "from extraction_package import extraction_pipeline"
   ]
  },
  {
   "cell_type": "code",
   "execution_count": 8,
   "id": "0375c499-01ff-4af3-8780-8f6e9263dcf7",
   "metadata": {},
   "outputs": [],
   "source": [
    "filenames = [\"Samapleu East Ni Cu 5-2019.pdf\", \"Sudbury Camp JV 12-2010.pdf\", \"Torngat diamond 2-2003.pdf\"]\n",
    "url_list = [ \"https://w3id.org/usgs/z/4530692/5TU66E4A\",\"https://w3id.org/usgs/z/4530692/5MZZZXRJ\", \"https://w3id.org/usgs/z/4530692/5SX2PB3B\"]\n",
    "commodity = \"Nickel\"\n",
    "commodity_sign = \"Ni\"\n",
    "folder_path = \"./reports/nickel/\"\n",
    "output_path = \"./extracted/\""
   ]
  },
  {
   "cell_type": "code",
   "execution_count": 9,
   "id": "55d871ed-8469-4a5a-8f26-3b922ade0633",
   "metadata": {
    "scrolled": true,
    "tags": []
   },
   "outputs": [],
   "source": [
    "# t = time.time()\n",
    "# for i, filename in enumerate(filenames):\n",
    "#     extraction_pipeline.run(folder_path, filename, url_list[i], commodity, commodity_sign, output_path)\n",
    "\n",
    "# print(f'Run in for loop: {time.time()-t}')"
   ]
  },
  {
   "cell_type": "code",
   "execution_count": null,
   "id": "7a07c75d-6874-4880-80a5-7d575eddac3e",
   "metadata": {
    "scrolled": true,
    "tags": []
   },
   "outputs": [
    {
     "name": "stdout",
     "output_type": "stream",
     "text": [
      "Running the parallelization method with 3 files \n",
      "\n",
      "Zoltero Information: file_key 5SX2PB3B Title: NI 43-101 Technical Report for the Torngat Project in North America dated February 2003 \n",
      "\n",
      "Working on file: ./reports/nickel/Torngat diamond 2-2003.pdf title: NI 43-101 Technical Report for the Torngat Project in North America dated February 2003 url: https://w3id.org/usgs/z/4530692/5SX2PB3B commodity of interest is Nickel \n",
      "\n",
      "Zoltero Information: file_key 5TU66E4A Title: NI 43-101 Technical Report for the Samapleu East Project in Ivory Coast (Cote d'Ivoire) dated May 2019 \n",
      "\n",
      "Working on file: ./reports/nickel/Samapleu East Ni Cu 5-2019.pdf title: NI 43-101 Technical Report for the Samapleu East Project in Ivory Coast (Cote d'Ivoire) dated May 2019 url: https://w3id.org/usgs/z/4530692/5TU66E4A commodity of interest is Nickel \n",
      "\n",
      "Zoltero Information: file_key 5MZZZXRJ Title: NI 43-101 Technical Report for the Sudbury Camp JV Project in North America dated 2010 \n",
      "\n",
      "Working on file: ./reports/nickel/Sudbury Camp JV 12-2010.pdf title: NI 43-101 Technical Report for the Sudbury Camp JV Project in North America dated 2010 url: https://w3id.org/usgs/z/4530692/5MZZZXRJ commodity of interest is Nickel \n",
      "\n"
     ]
    }
   ],
   "source": [
    "%autoreload\n",
    "#multiprocessing test\n",
    "\n",
    "t = time.time()\n",
    "extraction_pipeline.document_parallel_extract(\n",
    "    folder_path,\n",
    "    filenames,\n",
    "    url_list,\n",
    "    commodity,\n",
    "    commodity_sign,\n",
    "    output_path\n",
    "        )\n",
    "\n",
    "print(f'parallel: {time.time()-t}')"
   ]
  },
  {
   "cell_type": "code",
   "execution_count": null,
   "id": "507ef27d-5908-4719-b828-b926ef13bddf",
   "metadata": {},
   "outputs": [],
   "source": []
  }
 ],
 "metadata": {
  "kernelspec": {
   "display_name": "Python 3 (ipykernel)",
   "language": "python",
   "name": "python3"
  },
  "language_info": {
   "codemirror_mode": {
    "name": "ipython",
    "version": 3
   },
   "file_extension": ".py",
   "mimetype": "text/x-python",
   "name": "python",
   "nbconvert_exporter": "python",
   "pygments_lexer": "ipython3",
   "version": "3.9.13"
  }
 },
 "nbformat": 4,
 "nbformat_minor": 5
}
