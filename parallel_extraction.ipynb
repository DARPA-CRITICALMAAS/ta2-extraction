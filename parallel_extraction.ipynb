{
 "cells": [
  {
   "cell_type": "code",
   "execution_count": 9,
   "id": "6cbd8648-3dd5-4fca-8c88-fabb3266f4f7",
   "metadata": {},
   "outputs": [
    {
     "name": "stdout",
     "output_type": "stream",
     "text": [
      "The autoreload extension is already loaded. To reload it, use:\n",
      "  %reload_ext autoreload\n"
     ]
    }
   ],
   "source": [
    "%load_ext autoreload\n",
    "\n",
    "import time\n",
    "import os\n",
    "from old_extraction_package import extraction_pipeline"
   ]
  },
  {
   "cell_type": "markdown",
   "id": "1f128100-894e-4bca-b9c5-ffdda895720a",
   "metadata": {},
   "source": [
    "## Next steps\n",
    "\n",
    "1. https://platform.openai.com/docs/assistants/tools/file-search\n",
    "make the updates\n"
   ]
  },
  {
   "cell_type": "code",
   "execution_count": 10,
   "id": "ca0a4185-bab4-4148-afdd-bd21499cb9c1",
   "metadata": {},
   "outputs": [],
   "source": [
    "def list_files_in_directory(directory):\n",
    "    filenames = []\n",
    "    \n",
    "    if os.path.exists(directory):\n",
    "        files = os.listdir(directory)\n",
    "        \n",
    "        for file in files:\n",
    "            if os.path.isfile(os.path.join(directory, file)) and file.lower().endswith('.pdf'):\n",
    "                filenames.append(file)\n",
    "    \n",
    "    return filenames"
   ]
  },
  {
   "cell_type": "code",
   "execution_count": 11,
   "id": "0375c499-01ff-4af3-8780-8f6e9263dcf7",
   "metadata": {},
   "outputs": [],
   "source": [
    "commodity = \"Zinc\"\n",
    "commodity_sign = \"Zn\"\n",
    "folder_path = \"./reports/zinc/\"\n",
    "output_path = \"./extracted/nine_month/zinc/\""
   ]
  },
  {
   "cell_type": "code",
   "execution_count": 12,
   "id": "69d7a3e7-8d38-4621-832c-4eecfcc0907e",
   "metadata": {},
   "outputs": [],
   "source": [
    "all_files = list_files_in_directory(folder_path)"
   ]
  },
  {
   "cell_type": "code",
   "execution_count": 13,
   "id": "1b836ce0-d422-459d-8102-00c8f43a186c",
   "metadata": {},
   "outputs": [
    {
     "data": {
      "text/plain": [
       "['Davis Township Ni Cu 4-2000.pdf']"
      ]
     },
     "execution_count": 13,
     "metadata": {},
     "output_type": "execute_result"
    }
   ],
   "source": [
    "all_files"
   ]
  },
  {
   "cell_type": "code",
   "execution_count": 14,
   "id": "dc99b0e4-d22c-4ffe-994c-efb38a8d41e3",
   "metadata": {},
   "outputs": [
    {
     "name": "stdout",
     "output_type": "stream",
     "text": [
      "1 1\n"
     ]
    }
   ],
   "source": [
    "filenames = ['Davis Township Ni Cu 4-2000.pdf']\n",
    "# \n",
    "\n",
    "url_list = [\"https://w3id.org/usgs/z/4530692/W2N46PIS\"]\n",
    "\n",
    "\n",
    "print(len(filenames), len(url_list))"
   ]
  },
  {
   "cell_type": "code",
   "execution_count": 15,
   "id": "55d871ed-8469-4a5a-8f26-3b922ade0633",
   "metadata": {
    "scrolled": true,
    "tags": []
   },
   "outputs": [],
   "source": [
    "# total = time.time()\n",
    "# for i, filename in enumerate(filenames):\n",
    "#     t = time.time()\n",
    "#     extraction_pipeline.run(folder_path, filename, url_list[i], commodity, commodity_sign, output_path)\n",
    "#     print(f'Run for file {filename}: {time.time()-t}')\n",
    "    \n",
    "# print(f'Run in for loop: {time.time()-total}')"
   ]
  },
  {
   "cell_type": "code",
   "execution_count": 16,
   "id": "7a07c75d-6874-4880-80a5-7d575eddac3e",
   "metadata": {
    "scrolled": true,
    "tags": []
   },
   "outputs": [
    {
     "name": "stdout",
     "output_type": "stream",
     "text": [
      "Running the parallelization method with 1 files \n",
      "\n",
      "Deleted any leftover files\n",
      "Zoltero Information: file_key W2N46PIS Title: NI 43-101 Technical Report for the Davis Township Project in North America dated April 2000 \n",
      "\n",
      "Working on file: ./reports/zinc/Davis Township Ni Cu 4-2000.pdf title: NI 43-101 Technical Report for the Davis Township Project in North America dated April 2000 url: https://w3id.org/usgs/z/4530692/W2N46PIS commodity of interest is Zinc \n",
      "\n",
      "Created Assistant: asst_iQQ9ZP3Uz6MGpFRdWlwak4ac\n",
      "Current run id = run_7eETw3p2RWB7PIGsREDCCU5s thread_id = thread_uTdaV1CQa7Vqn62tr8vZx1qF \n",
      "\n",
      "Checking run status: in_progress\n",
      "Run status: completed\n",
      "\n",
      "is_failed_result: Response: completed type <class 'str'>\n",
      "Run: run_7eETw3p2RWB7PIGsREDCCU5s Thread: thread_uTdaV1CQa7Vqn62tr8vZx1qF \n",
      " response: YES \n",
      "\n",
      "Response: YES\n",
      "File was correctly uploaded \n",
      "\n",
      "Checking run status: in_progress\n",
      "Run status: in_progress\n",
      "Run status: completed\n",
      "\n",
      "is_failed_result: Response: completed type <class 'str'>\n",
      "Run: run_oSKpnwQodp01CnqAaQnOzDr4 Thread: thread_uTdaV1CQa7Vqn62tr8vZx1qF \n",
      " response: {\n",
      "  \"title\": \"NI 43-101 Technical Report for the Davis Township Project in North America dated April 2000\",\n",
      "  \"doi\": \"\",\n",
      "  \"authors\": [\"J.M. Siriunas\"],\n",
      "  \"year\": 2000,\n",
      "  \"month\": 4,\n",
      "  \"volume\": \"\",\n",
      "  \"issue\": \"\",\n",
      "  \"description\": \"This report by Minera Capital Corporation details geological and exploration activities at Davis Township property, emphasizing low-grade copper and nickel mineralization with potential for platinum group metals and gold.\"\n",
      "} \n",
      "\n",
      " Here is the reference material for the document: \n",
      " {'title': 'NI 43-101 Technical Report for the Davis Township Project in North America dated April 2000', 'doi': 'https://w3id.org/usgs/z/4530692/W2N46PIS', 'authors': ['J.M. Siriunas'], 'year': 2000, 'month': 4, 'description': 'This report by Minera Capital Corporation details geological and exploration activities at Davis Township property, emphasizing low-grade copper and nickel mineralization with potential for platinum group metals and gold.'} \n",
      "\n",
      "Checking run status: in_progress\n",
      "Run status: completed\n",
      "\n",
      "is_failed_result: Response: completed type <class 'str'>\n",
      "Run: run_pFrrWpwyP9yPtpavpP6jdHzO Thread: thread_uTdaV1CQa7Vqn62tr8vZx1qF \n",
      " response: {\n",
      "    \"MineralSite\": [\n",
      "        {\n",
      "            \"source_id\": \"https://w3id.org/usgs/z/4530692/W2N46PIS\",\n",
      "            \"record_id\": \"1\",\n",
      "            \"name\": \"NI 43-101 Technical Report for the Davis Township Project in North America dated April 2000\",\n",
      "            \"location_info\": {\n",
      "                \"location\": \"MULTIPOINT(-80.5 46.6667,-80.4167 46.6667)\",\n",
      "                \"crs\": \"EPSG:4326\",\n",
      "                \"country\": \"Canada\",\n",
      "                \"state_or_province\": \"Ontario\"\n",
      "            }\n",
      "        }\n",
      "    ]\n",
      "} \n",
      "\n",
      "JsonStR now: {'MineralSite': [{'source_id': 'https://w3id.org/usgs/z/4530692/W2N46PIS', 'record_id': '1', 'name': 'NI 43-101 Technical Report for the Davis Township Project in North America dated April 2000', 'location_info': {'location': 'MULTIPOINT(-80.5 46.6667,-80.4167 46.6667)', 'crs': 'EPSG:4326', 'country': 'Canada', 'state_or_province': 'Ontario'}}]}\n",
      "Here is the Mineral Site Json: \n",
      " {'MineralSite': [{'source_id': 'https://w3id.org/usgs/z/4530692/W2N46PIS', 'record_id': '1', 'name': 'NI 43-101 Technical Report for the Davis Township Project in North America dated April 2000', 'location_info': {'location': 'MULTIPOINT(-80.5 46.6667,-80.4167 46.6667)', 'crs': 'EPSG:4326', 'country': 'Canada', 'state_or_province': 'Ontario'}}]} \n",
      "\n",
      " Deleted assistant for Document Reference \n",
      "\n",
      "Created Assistant: asst_7nQp6Xvh8FacYQWboiQ2MTkQ\n",
      "Current run id = run_lI5D64Bl102IHUgtN0L91o2j thread_id = thread_6G5pfgfOHsQNNetyEEvEdjsH \n",
      "\n",
      "Checking run status: in_progress\n",
      "Run status: completed\n",
      "\n",
      "is_failed_result: Response: completed type <class 'str'>\n",
      "Run: run_lI5D64Bl102IHUgtN0L91o2j Thread: thread_6G5pfgfOHsQNNetyEEvEdjsH \n",
      " response: YES \n",
      "\n",
      "Response: YES\n",
      "File was correctly uploaded \n",
      "\n",
      "Checking run status: in_progress\n",
      "Run status: completed\n",
      "\n",
      "is_failed_result: Response: completed type <class 'str'>\n",
      "Run: run_RZqB2dPRLmfwIqvwJp5e0xPq Thread: thread_6G5pfgfOHsQNNetyEEvEdjsH \n",
      " response: {\n",
      "    \"deposit_type\": []\n",
      "} \n",
      "\n",
      " Observed Deposit Types in the Report: \n",
      " {'deposit_type': []} \n",
      "\n",
      " Final Formatted Deposit Type: {'deposit_type_candidate': []} \n",
      "\n",
      " Deleted assistant for Deposit Types \n",
      "\n",
      "Created Assistant: asst_Zg3eaUzhfTnXRBtKEbFvsxpz\n",
      "Current run id = run_ryZn3dKD0GnDUVAatbPVsiZs thread_id = thread_HdW2bqP0HuNS8t0WCqBxbTAz \n",
      "\n",
      "Checking run status: in_progress\n",
      "Run status: completed\n",
      "\n",
      "is_failed_result: Response: completed type <class 'str'>\n",
      "Run: run_ryZn3dKD0GnDUVAatbPVsiZs Thread: thread_HdW2bqP0HuNS8t0WCqBxbTAz \n",
      " response: YES \n",
      "\n",
      "Response: YES\n",
      "File was correctly uploaded \n",
      "\n",
      "Checking run status: in_progress\n",
      "Run status: completed\n",
      "\n",
      "is_failed_result: Response: completed type <class 'str'>\n",
      "Run: run_3jgekYqpNcDUXcCXoLapLsPP Thread: thread_HdW2bqP0HuNS8t0WCqBxbTAz \n",
      " response: None \n",
      "\n",
      " Here is the dictionary of relevant_tables: None \n",
      "\n",
      " List of idenitified Categories in the report: [] \n",
      "\n",
      " Deleted assistant for Mineral Inventory \n",
      "\n",
      " mineral site json :\n",
      " {'MineralSite': [{'source_id': 'https://w3id.org/usgs/z/4530692/W2N46PIS', 'record_id': '1', 'name': 'NI 43-101 Technical Report for the Davis Township Project in North America dated April 2000', 'location_info': {'location': 'MULTIPOINT(-80.5 46.6667,-80.4167 46.6667)', 'crs': 'EPSG:4326', 'country': 'Canada', 'state_or_province': 'Ontario'}, 'mineral_inventory': [{'commodity': 'https://minmod.isi.edu/resource/Q589', 'reference': {'document': {'title': 'NI 43-101 Technical Report for the Davis Township Project in North America dated April 2000', 'doi': 'https://w3id.org/usgs/z/4530692/W2N46PIS', 'authors': ['J.M. Siriunas'], 'year': 2000, 'month': 4, 'description': 'This report by Minera Capital Corporation details geological and exploration activities at Davis Township property, emphasizing low-grade copper and nickel mineralization with potential for platinum group metals and gold.'}}}], 'deposit_type_candidate': []}]} \n",
      "\n",
      "Combined data written to ./extracted/nine_month/zinc/Davis_Township_Ni_Cu_4-2000_summary_20240514_095932.json Took 134.37443017959595 s \n",
      "\n",
      "parallel: 137.06125020980835\n"
     ]
    }
   ],
   "source": [
    "# #multiprocessing test\n",
    "\n",
    "# ### 10 is the sweet spot\n",
    "t = time.time()\n",
    "extraction_pipeline.document_parallel_extract(\n",
    "    folder_path,\n",
    "    filenames,\n",
    "    url_list,\n",
    "    commodity,\n",
    "    commodity_sign,\n",
    "    output_path\n",
    "        )\n",
    "\n",
    "print(f'parallel: {time.time()-t}')"
   ]
  },
  {
   "cell_type": "code",
   "execution_count": null,
   "id": "efba591c-163f-4ff1-aa1a-c9f67ce8fcb8",
   "metadata": {},
   "outputs": [],
   "source": []
  }
 ],
 "metadata": {
  "kernelspec": {
   "display_name": "Python 3 (ipykernel)",
   "language": "python",
   "name": "python3"
  },
  "language_info": {
   "codemirror_mode": {
    "name": "ipython",
    "version": 3
   },
   "file_extension": ".py",
   "mimetype": "text/x-python",
   "name": "python",
   "nbconvert_exporter": "python",
   "pygments_lexer": "ipython3",
   "version": "3.9.13"
  }
 },
 "nbformat": 4,
 "nbformat_minor": 5
}
